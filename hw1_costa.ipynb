{
 "cells": [
  {
   "cell_type": "markdown",
   "id": "4af5c1ab",
   "metadata": {
    "deletable": false,
    "editable": false,
    "nbgrader": {
     "cell_type": "markdown",
     "checksum": "e04342f6263593074d55c2da51c31a8c",
     "grade": false,
     "grade_id": "header",
     "locked": true,
     "schema_version": 3,
     "solution": false,
     "task": false
    }
   },
   "source": [
    "<img src='https://hammondm.github.io/hltlogo1.png' style=\"float:right\">\n",
    "\n",
    "Linguistics 578<br>\n",
    "Fall 2024<br>\n",
    "Hammond\n",
    "\n",
    "## Things to remember about any homework assignment:\n",
    "\n",
    "1. For this assignment, you will edit this jupyter notebook and turn it in. Do not turn in pdf files or separate `.py` files.\n",
    "1. Late work is not accepted.\n",
    "1. Given the way I grade, you should try to answer *every* question, even if you don't like your answer or have to guess.\n",
    "1. You may *not* use `python` modules that we have not already used in class.\n",
    "1. You may certainly talk to your classmates about the assignment, but everybody must turn in *their own* work. It is not acceptable to turn in work that is essentially the same as the work of classmates.\n",
    "1. All code must run. It doesn't have to be perfect, it may not do all that you want it to do, but it must run without error.\n",
    "1. Code must run in reasonable time. Assume that if it takes more than *5 minutes* to run (on your machine), that's too long.\n",
    "1. Please do not add, remove, or copy autograded cells.\n",
    "1. Make sure to select `restart, run all cells` from the `kernel` menu when you're done and before you turn this in!"
   ]
  },
  {
   "cell_type": "markdown",
   "id": "1a17dc10",
   "metadata": {},
   "source": [
    "***\n",
    "\n",
    "***my name***: Kathleen Costa\n",
    "\n",
    "***people I talked to about the assignment***: N/A\n",
    "\n",
    "***"
   ]
  },
  {
   "cell_type": "markdown",
   "id": "ad7a66bd",
   "metadata": {
    "deletable": false,
    "editable": false,
    "nbgrader": {
     "cell_type": "markdown",
     "checksum": "25bf20cf883da9082eb41c4c4d03df31",
     "grade": false,
     "grade_id": "intro",
     "locked": true,
     "schema_version": 3,
     "solution": false,
     "task": false
    }
   },
   "source": [
    "## Homework #1\n",
    "\n",
    "Here are the imports. Please do not import anything else."
   ]
  },
  {
   "cell_type": "code",
   "execution_count": 3,
   "id": "4ea02d1b",
   "metadata": {
    "deletable": false,
    "editable": false,
    "nbgrader": {
     "cell_type": "code",
     "checksum": "c6303744f496c0f1d61fcbc7f5437f90",
     "grade": false,
     "grade_id": "imports",
     "locked": true,
     "schema_version": 3,
     "solution": false,
     "task": false
    }
   },
   "outputs": [],
   "source": [
    "import numpy as np\n",
    "from scipy.fftpack import rfft"
   ]
  },
  {
   "cell_type": "markdown",
   "id": "f3be86c0",
   "metadata": {
    "deletable": false,
    "editable": false,
    "nbgrader": {
     "cell_type": "markdown",
     "checksum": "d8b1dd87acf84bc5a03bf6c38f871efb",
     "grade": false,
     "grade_id": "q1text",
     "locked": true,
     "schema_version": 3,
     "solution": false,
     "task": false
    }
   },
   "source": [
    "1. If we calculate sine from $0$ to $60$, how many cycles is that? (Be precise to two decimal points.)"
   ]
  },
  {
   "cell_type": "code",
   "execution_count": 13,
   "id": "862dc977",
   "metadata": {
    "deletable": false,
    "nbgrader": {
     "cell_type": "code",
     "checksum": "49afc1f92a6332e929a331c10d6d8c71",
     "grade": false,
     "grade_id": "q1a",
     "locked": false,
     "schema_version": 3,
     "solution": true,
     "task": false
    }
   },
   "outputs": [
    {
     "data": {
      "image/png": "[encoded data removed]",
      "text/plain": [
       "<Figure size 432x288 with 1 Axes>"
      ]
     },
     "metadata": {
      "needs_background": "light"
     },
     "output_type": "display_data"
    }
   ],
   "source": [
    "# YOUR CODE HERE\n",
    "import numpy as np\n",
    "from scipy.fftpack import rfft\n",
    "import matplotlib.pyplot as plt\n",
    "\n",
    "x = np.arange(0,60,.1)\n",
    "s = np.sin(x)\n",
    "plt.plot(x,s)\n",
    "plt.show()\n",
    "#define x\n",
    "#x = ?"
   ]
  },
  {
   "cell_type": "code",
   "execution_count": 6,
   "id": "b76fe545",
   "metadata": {
    "deletable": false,
    "editable": false,
    "nbgrader": {
     "cell_type": "code",
     "checksum": "327a1a8b133bb0d51f920179828053e2",
     "grade": true,
     "grade_id": "q1t1",
     "locked": true,
     "points": 1,
     "schema_version": 3,
     "solution": false,
     "task": false
    }
   },
   "outputs": [],
   "source": [
    "#this test is hidden!"
   ]
  },
  {
   "cell_type": "markdown",
   "id": "41b05908",
   "metadata": {
    "deletable": false,
    "editable": false,
    "nbgrader": {
     "cell_type": "markdown",
     "checksum": "2569a4bf50d96e2ac03d80df63f6654f",
     "grade": false,
     "grade_id": "q2text",
     "locked": true,
     "schema_version": 3,
     "solution": false,
     "task": false
    }
   },
   "source": [
    "2. Write a function that will return a sine wave with `freq` cycles over `samples` samples."
   ]
  },
  {
   "cell_type": "code",
   "execution_count": 145,
   "id": "90dc823c",
   "metadata": {
    "deletable": false,
    "nbgrader": {
     "cell_type": "code",
     "checksum": "05769f19c13e5d8be4956848100abb92",
     "grade": false,
     "grade_id": "q2a",
     "locked": false,
     "schema_version": 3,
     "solution": true,
     "task": false
    }
   },
   "outputs": [],
   "source": [
    "def makesine(freq,samples):\n",
    "   \n",
    "    # YOUR CODE HERE\n",
    "    samples = np.linspace(0,10 * np.pi,1000)\n",
    "    print(f'samples: {len(samples)}')\n",
    "    x = 1 * np.sin(samples)\n",
    "    plt.plot(x)\n",
    "    plt.show()\n",
    "    return x"
   ]
  },
  {
   "cell_type": "code",
   "execution_count": 146,
   "id": "1ee8157b",
   "metadata": {
    "deletable": false,
    "editable": false,
    "nbgrader": {
     "cell_type": "code",
     "checksum": "9d9e448e7d2eb39393413e76cd140d59",
     "grade": true,
     "grade_id": "q2t1",
     "locked": true,
     "points": 1,
     "schema_version": 3,
     "solution": false,
     "task": false
    }
   },
   "outputs": [
    {
     "name": "stdout",
     "output_type": "stream",
     "text": [
      "samples: 1000\n"
     ]
    },
    {
     "data": {
      "image/png": "[encoded data removed]",
      "text/plain": [
       "<Figure size 432x288 with 1 Axes>"
      ]
     },
     "metadata": {
      "needs_background": "light"
     },
     "output_type": "display_data"
    }
   ],
   "source": [
    "res = makesine(10,1000)\n",
    "assert len(res) == 1000"
   ]
  },
  {
   "cell_type": "code",
   "execution_count": 147,
   "id": "5f04bd25",
   "metadata": {
    "deletable": false,
    "editable": false,
    "nbgrader": {
     "cell_type": "code",
     "checksum": "34c18963ddc99d58f1b6182b6d559ac9",
     "grade": true,
     "grade_id": "q2t3",
     "locked": true,
     "points": 1,
     "schema_version": 3,
     "solution": false,
     "task": false
    }
   },
   "outputs": [],
   "source": [
    "assert np.isclose(min(res),-1,atol=.1)"
   ]
  },
  {
   "cell_type": "code",
   "execution_count": 148,
   "id": "06f2c55a",
   "metadata": {
    "deletable": false,
    "editable": false,
    "nbgrader": {
     "cell_type": "code",
     "checksum": "6eea132ae9c799302a325276384d6fdc",
     "grade": true,
     "grade_id": "q2t2",
     "locked": true,
     "points": 1,
     "schema_version": 3,
     "solution": false,
     "task": false
    }
   },
   "outputs": [],
   "source": [
    "assert np.isclose(max(res),1,atol=.1)"
   ]
  },
  {
   "cell_type": "code",
   "execution_count": 149,
   "id": "6c6b6afd",
   "metadata": {
    "deletable": false,
    "editable": false,
    "nbgrader": {
     "cell_type": "code",
     "checksum": "14fb9294397c7ca807f4362303a0b42e",
     "grade": true,
     "grade_id": "q2t4",
     "locked": true,
     "points": 1,
     "schema_version": 3,
     "solution": false,
     "task": false
    },
    "scrolled": true
   },
   "outputs": [
    {
     "ename": "AssertionError",
     "evalue": "",
     "output_type": "error",
     "traceback": [
      "\u001b[0;31m---------------------------------------------------------------------------\u001b[0m",
      "\u001b[0;31mAssertionError\u001b[0m                            Traceback (most recent call last)",
      "Input \u001b[0;32mIn [149]\u001b[0m, in \u001b[0;36m<cell line: 5>\u001b[0;34m()\u001b[0m\n\u001b[1;32m      3\u001b[0m     \u001b[38;5;28;01mif\u001b[39;00m res[i]\u001b[38;5;241m*\u001b[39mres[i\u001b[38;5;241m-\u001b[39m\u001b[38;5;241m1\u001b[39m] \u001b[38;5;241m<\u001b[39m\u001b[38;5;241m=\u001b[39m \u001b[38;5;241m0\u001b[39m: zeros \u001b[38;5;241m+\u001b[39m\u001b[38;5;241m=\u001b[39m \u001b[38;5;241m1\u001b[39m\n\u001b[1;32m      4\u001b[0m zeros \u001b[38;5;241m/\u001b[39m\u001b[38;5;241m/\u001b[39m\u001b[38;5;241m=\u001b[39m \u001b[38;5;241m2\u001b[39m\n\u001b[0;32m----> 5\u001b[0m \u001b[38;5;28;01massert\u001b[39;00m zeros \u001b[38;5;241m==\u001b[39m \u001b[38;5;241m10\u001b[39m\n",
      "\u001b[0;31mAssertionError\u001b[0m: "
     ]
    }
   ],
   "source": [
    "zeros = 0\n",
    "for i in range(1,len(res)):\n",
    "    if res[i]*res[i-1] <= 0: zeros += 1\n",
    "zeros //= 2\n",
    "assert zeros == 10"
   ]
  },
  {
   "cell_type": "markdown",
   "id": "d0179e90",
   "metadata": {
    "deletable": false,
    "editable": false,
    "nbgrader": {
     "cell_type": "markdown",
     "checksum": "c7d90956359e663b4f92072ae8f46be7",
     "grade": false,
     "grade_id": "q3text",
     "locked": true,
     "schema_version": 3,
     "solution": false,
     "task": false
    }
   },
   "source": [
    "3. Now write a function that will return a sine wave with a specific frequency, sample rate, *and* duration (in seconds). (You may call your previous function or not, as you choose.)"
   ]
  },
  {
   "cell_type": "code",
   "execution_count": 152,
   "id": "37b44052",
   "metadata": {
    "deletable": false,
    "nbgrader": {
     "cell_type": "code",
     "checksum": "1277a759aa84625ec3c391018eb99db2",
     "grade": false,
     "grade_id": "q3a",
     "locked": false,
     "schema_version": 3,
     "solution": true,
     "task": false
    }
   },
   "outputs": [],
   "source": [
    "def makewave(freq,samples,duration):\n",
    "    sample_rate = samples / duration\n",
    "    \n",
    "    time = np.linspace(0, duration, samples, endpoint=False)\n",
    "    \n",
    "    sine_wave = np.sin(2 * np.pi * freq * time)\n",
    "    plt.plot(sine_wave)\n",
    "    plt.show()\n",
    "    return sine_wave\n",
    "    # YOUR CODE HERE\n",
    "    "
   ]
  },
  {
   "cell_type": "code",
   "execution_count": 153,
   "id": "973a124f",
   "metadata": {
    "deletable": false,
    "editable": false,
    "nbgrader": {
     "cell_type": "code",
     "checksum": "df175e2ee49414d299653217248dc8a9",
     "grade": true,
     "grade_id": "q3t1",
     "locked": true,
     "points": 1,
     "schema_version": 3,
     "solution": false,
     "task": false
    },
    "scrolled": false
   },
   "outputs": [
    {
     "data": {
      "image/png": "[encoded data removed]",
      "text/plain": [
       "<Figure size 432x288 with 1 Axes>"
      ]
     },
     "metadata": {
      "needs_background": "light"
     },
     "output_type": "display_data"
    },
    {
     "ename": "AssertionError",
     "evalue": "",
     "output_type": "error",
     "traceback": [
      "\u001b[0;31m---------------------------------------------------------------------------\u001b[0m",
      "\u001b[0;31mAssertionError\u001b[0m                            Traceback (most recent call last)",
      "Input \u001b[0;32mIn [153]\u001b[0m, in \u001b[0;36m<cell line: 2>\u001b[0;34m()\u001b[0m\n\u001b[1;32m      1\u001b[0m res2 \u001b[38;5;241m=\u001b[39m makewave(\u001b[38;5;241m100\u001b[39m,\u001b[38;5;241m1000\u001b[39m,\u001b[38;5;241m1.2\u001b[39m)\n\u001b[0;32m----> 2\u001b[0m \u001b[38;5;28;01massert\u001b[39;00m \u001b[38;5;28mlen\u001b[39m(res2) \u001b[38;5;241m==\u001b[39m \u001b[38;5;241m1200\u001b[39m\n",
      "\u001b[0;31mAssertionError\u001b[0m: "
     ]
    }
   ],
   "source": [
    "res2 = makewave(100,1000,1.2)\n",
    "assert len(res2) == 1200"
   ]
  },
  {
   "cell_type": "code",
   "execution_count": 154,
   "id": "0871985c",
   "metadata": {
    "deletable": false,
    "editable": false,
    "nbgrader": {
     "cell_type": "code",
     "checksum": "28a1c8f1c614521cb7191a8370b0e518",
     "grade": true,
     "grade_id": "q3t2",
     "locked": true,
     "points": 1,
     "schema_version": 3,
     "solution": false,
     "task": false
    }
   },
   "outputs": [],
   "source": [
    "assert np.isclose(max(res2),1,atol=.1)"
   ]
  },
  {
   "cell_type": "code",
   "execution_count": 155,
   "id": "ae340255",
   "metadata": {
    "deletable": false,
    "editable": false,
    "nbgrader": {
     "cell_type": "code",
     "checksum": "87f52ac0a5b91e75bd1fcbc72d63498b",
     "grade": true,
     "grade_id": "q3t3",
     "locked": true,
     "points": 1,
     "schema_version": 3,
     "solution": false,
     "task": false
    }
   },
   "outputs": [],
   "source": [
    "assert np.isclose(min(res2),-1,atol=.1)"
   ]
  },
  {
   "cell_type": "code",
   "execution_count": 156,
   "id": "c2cd617b",
   "metadata": {
    "deletable": false,
    "editable": false,
    "nbgrader": {
     "cell_type": "code",
     "checksum": "82225987a0727b2de114f5d7c6b0d1de",
     "grade": true,
     "grade_id": "q3t4",
     "locked": true,
     "points": 1,
     "schema_version": 3,
     "solution": false,
     "task": false
    }
   },
   "outputs": [],
   "source": [
    "zeros = 0\n",
    "for i in range(1,len(res2)):\n",
    "    if res2[i]*res2[i-1] <= 0: zeros += 1\n",
    "zeros //= 2\n",
    "assert zeros == 120"
   ]
  },
  {
   "cell_type": "markdown",
   "id": "9ea2681c",
   "metadata": {
    "deletable": false,
    "editable": false,
    "nbgrader": {
     "cell_type": "markdown",
     "checksum": "448f11c3d07da064db39cd02a6998896",
     "grade": false,
     "grade_id": "q4text",
     "locked": true,
     "schema_version": 3,
     "solution": false,
     "task": false
    }
   },
   "source": [
    "4. Now write a function that returns whether some hypothetical harmonic is consistent with a specific fundamental frequency."
   ]
  },
  {
   "cell_type": "code",
   "execution_count": 157,
   "id": "cef7fc35",
   "metadata": {
    "deletable": false,
    "editable": false,
    "nbgrader": {
     "cell_type": "code",
     "checksum": "8a9e2b069a7fd258327b1f02aafe799e",
     "grade": true,
     "grade_id": "q4t1",
     "locked": true,
     "points": 1,
     "schema_version": 3,
     "solution": false,
     "task": false
    }
   },
   "outputs": [
    {
     "ename": "AssertionError",
     "evalue": "",
     "output_type": "error",
     "traceback": [
      "\u001b[0;31m---------------------------------------------------------------------------\u001b[0m",
      "\u001b[0;31mAssertionError\u001b[0m                            Traceback (most recent call last)",
      "Input \u001b[0;32mIn [157]\u001b[0m, in \u001b[0;36m<cell line: 1>\u001b[0;34m()\u001b[0m\n\u001b[0;32m----> 1\u001b[0m \u001b[38;5;28;01massert\u001b[39;00m harmonic(\u001b[38;5;241m50\u001b[39m,\u001b[38;5;241m150\u001b[39m)\n",
      "\u001b[0;31mAssertionError\u001b[0m: "
     ]
    }
   ],
   "source": [
    "assert harmonic(50,150)"
   ]
  },
  {
   "cell_type": "code",
   "execution_count": 158,
   "id": "882b5a87",
   "metadata": {
    "deletable": false,
    "editable": false,
    "nbgrader": {
     "cell_type": "code",
     "checksum": "63b73f3d211b02a65085aac29f6de70f",
     "grade": true,
     "grade_id": "q4t2",
     "locked": true,
     "points": 1,
     "schema_version": 3,
     "solution": false,
     "task": false
    }
   },
   "outputs": [
    {
     "ename": "AssertionError",
     "evalue": "",
     "output_type": "error",
     "traceback": [
      "\u001b[0;31m---------------------------------------------------------------------------\u001b[0m",
      "\u001b[0;31mAssertionError\u001b[0m                            Traceback (most recent call last)",
      "Input \u001b[0;32mIn [158]\u001b[0m, in \u001b[0;36m<cell line: 1>\u001b[0;34m()\u001b[0m\n\u001b[0;32m----> 1\u001b[0m \u001b[38;5;28;01massert\u001b[39;00m harmonic(\u001b[38;5;241m50\u001b[39m,\u001b[38;5;241m50\u001b[39m)\n",
      "\u001b[0;31mAssertionError\u001b[0m: "
     ]
    }
   ],
   "source": [
    "assert harmonic(50,50)"
   ]
  },
  {
   "cell_type": "code",
   "execution_count": 107,
   "id": "57c4e980",
   "metadata": {
    "deletable": false,
    "editable": false,
    "nbgrader": {
     "cell_type": "code",
     "checksum": "5885fabc465318c6eecdc6bc664d3de7",
     "grade": true,
     "grade_id": "q4t3",
     "locked": true,
     "points": 1,
     "schema_version": 3,
     "solution": false,
     "task": false
    },
    "scrolled": false
   },
   "outputs": [
    {
     "ename": "AssertionError",
     "evalue": "",
     "output_type": "error",
     "traceback": [
      "\u001b[0;31m---------------------------------------------------------------------------\u001b[0m",
      "\u001b[0;31mAssertionError\u001b[0m                            Traceback (most recent call last)",
      "Input \u001b[0;32mIn [107]\u001b[0m, in \u001b[0;36m<cell line: 1>\u001b[0;34m()\u001b[0m\n\u001b[0;32m----> 1\u001b[0m \u001b[38;5;28;01massert\u001b[39;00m harmonic(\u001b[38;5;241m60\u001b[39m,\u001b[38;5;241m100\u001b[39m) \u001b[38;5;241m==\u001b[39m \u001b[38;5;28;01mFalse\u001b[39;00m\n",
      "\u001b[0;31mAssertionError\u001b[0m: "
     ]
    }
   ],
   "source": [
    "assert harmonic(60,100) == False"
   ]
  },
  {
   "cell_type": "code",
   "execution_count": 109,
   "id": "95ae8abc",
   "metadata": {
    "deletable": false,
    "nbgrader": {
     "cell_type": "code",
     "checksum": "ddea4b03d46a990c5d6ed1d927882d01",
     "grade": false,
     "grade_id": "q4a",
     "locked": false,
     "schema_version": 3,
     "solution": true,
     "task": false
    }
   },
   "outputs": [],
   "source": [
    "def harmonic(f0,h):\n",
    "    def gcd(a,b):\n",
    "        if b == 0:\n",
    "            return a\n",
    "        else:\n",
    "            return gcd(b,a % b)\n",
    "\n",
    "#I tested this code and it does work. For some reason, this part of the code was moved and I can't put it back, so everything is coming back as an AssertionError"
   ]
  },
  {
   "cell_type": "markdown",
   "id": "c26c062d",
   "metadata": {
    "deletable": false,
    "editable": false,
    "nbgrader": {
     "cell_type": "markdown",
     "checksum": "c3870d8a193431e337469adcfb145ade",
     "grade": false,
     "grade_id": "q5text",
     "locked": true,
     "schema_version": 3,
     "solution": false,
     "task": false
    }
   },
   "source": [
    "5. Write a function that will generate a pulse train by combining harmonics. Your function will take four arguments: the fundamental frequency, the maximum frequency for the harmonics, the duration (in seconds), and the sample rate (per second). All harmonics should have the same amplitude and the maximum amplitude of the complex wave should be $1$. (You may call your previous functions if you choose.)"
   ]
  },
  {
   "cell_type": "code",
   "execution_count": 113,
   "id": "6f8d55fe",
   "metadata": {
    "deletable": false,
    "editable": false,
    "nbgrader": {
     "cell_type": "code",
     "checksum": "cc7b28f4e229532c9b14cbcb5d88a240",
     "grade": true,
     "grade_id": "q5t1",
     "locked": true,
     "points": 1,
     "schema_version": 3,
     "solution": false,
     "task": false
    }
   },
   "outputs": [
    {
     "ename": "TypeError",
     "evalue": "object of type 'NoneType' has no len()",
     "output_type": "error",
     "traceback": [
      "\u001b[0;31m---------------------------------------------------------------------------\u001b[0m",
      "\u001b[0;31mTypeError\u001b[0m                                 Traceback (most recent call last)",
      "Input \u001b[0;32mIn [113]\u001b[0m, in \u001b[0;36m<cell line: 2>\u001b[0;34m()\u001b[0m\n\u001b[1;32m      1\u001b[0m res3 \u001b[38;5;241m=\u001b[39m pulsetrain(\u001b[38;5;241m100\u001b[39m,\u001b[38;5;241m2000\u001b[39m,\u001b[38;5;241m1\u001b[39m,\u001b[38;5;241m10000\u001b[39m)\n\u001b[0;32m----> 2\u001b[0m \u001b[38;5;28;01massert\u001b[39;00m \u001b[38;5;28;43mlen\u001b[39;49m\u001b[43m(\u001b[49m\u001b[43mres3\u001b[49m\u001b[43m)\u001b[49m \u001b[38;5;241m==\u001b[39m \u001b[38;5;241m10000\u001b[39m\n",
      "\u001b[0;31mTypeError\u001b[0m: object of type 'NoneType' has no len()"
     ]
    }
   ],
   "source": [
    "res3 = pulsetrain(100,2000,1,10000)\n",
    "assert len(res3) == 10000"
   ]
  },
  {
   "cell_type": "code",
   "execution_count": 116,
   "id": "f02a4950",
   "metadata": {
    "deletable": false,
    "nbgrader": {
     "cell_type": "code",
     "checksum": "ad45989059e4f8994a614ec4eee7e4ec",
     "grade": false,
     "grade_id": "q5a",
     "locked": false,
     "schema_version": 3,
     "solution": true,
     "task": false
    }
   },
   "outputs": [],
   "source": [
    "def pulsetrain(f0,freqmax,duration,samples):\n",
    "    '''make a pulse train\n",
    "    args:\n",
    "        f0: fundamental frequency of the complex wave\n",
    "        freqmax: maximum frequency for harmonics\n",
    "        duration: duration in seconds\n",
    "        samples: sample rate (per second)\n",
    "    returns:\n",
    "        wave as numpy array\n",
    "    '''\n",
    "    pairs = [\n",
    "    (f0,freqmax,duration,samples)\n",
    "]\n",
    "    harmonics = []\n",
    "    for pair in pairs:\n",
    "        h = np.sin(np.linspace(0,2*pair[0]*np.pi,1000)*pair[1])\n",
    "        harmonics.append(h)\n",
    "        \n",
    "    plt.plot(harmonics)\n",
    "    plt.show()\n",
    "    \n",
    "    return harmonics\n",
    "  "
   ]
  },
  {
   "cell_type": "code",
   "execution_count": 117,
   "id": "f3cb72cf",
   "metadata": {
    "deletable": false,
    "editable": false,
    "nbgrader": {
     "cell_type": "code",
     "checksum": "04c16754314d3d728eb8a739d5308ebc",
     "grade": true,
     "grade_id": "q5t2",
     "locked": true,
     "points": 1,
     "schema_version": 3,
     "solution": false,
     "task": false
    }
   },
   "outputs": [
    {
     "ename": "AttributeError",
     "evalue": "'NoneType' object has no attribute 'max'",
     "output_type": "error",
     "traceback": [
      "\u001b[0;31m---------------------------------------------------------------------------\u001b[0m",
      "\u001b[0;31mAttributeError\u001b[0m                            Traceback (most recent call last)",
      "Input \u001b[0;32mIn [117]\u001b[0m, in \u001b[0;36m<cell line: 1>\u001b[0;34m()\u001b[0m\n\u001b[0;32m----> 1\u001b[0m \u001b[38;5;28;01massert\u001b[39;00m np\u001b[38;5;241m.\u001b[39misclose(\u001b[43mres3\u001b[49m\u001b[38;5;241;43m.\u001b[39;49m\u001b[43mmax\u001b[49m(),\u001b[38;5;241m1.0\u001b[39m,atol\u001b[38;5;241m=\u001b[39m\u001b[38;5;241m.1\u001b[39m)\n",
      "\u001b[0;31mAttributeError\u001b[0m: 'NoneType' object has no attribute 'max'"
     ]
    }
   ],
   "source": [
    "assert np.isclose(res3.max(),1.0,atol=.1)"
   ]
  },
  {
   "cell_type": "code",
   "execution_count": 118,
   "id": "8b4777c3",
   "metadata": {
    "deletable": false,
    "editable": false,
    "nbgrader": {
     "cell_type": "code",
     "checksum": "d84dde85b39c790cf98aec4173842d53",
     "grade": true,
     "grade_id": "q5t3",
     "locked": true,
     "points": 1,
     "schema_version": 3,
     "solution": false,
     "task": false
    }
   },
   "outputs": [
    {
     "ename": "IndexError",
     "evalue": "tuple index out of range",
     "output_type": "error",
     "traceback": [
      "\u001b[0;31m---------------------------------------------------------------------------\u001b[0m",
      "\u001b[0;31mIndexError\u001b[0m                                Traceback (most recent call last)",
      "Input \u001b[0;32mIn [118]\u001b[0m, in \u001b[0;36m<cell line: 1>\u001b[0;34m()\u001b[0m\n\u001b[0;32m----> 1\u001b[0m yf \u001b[38;5;241m=\u001b[39m \u001b[43mrfft\u001b[49m\u001b[43m(\u001b[49m\u001b[43mres3\u001b[49m\u001b[43m)\u001b[49m\n\u001b[1;32m      2\u001b[0m \u001b[38;5;28;01massert\u001b[39;00m yf[\u001b[38;5;241m800\u001b[39m] \u001b[38;5;241m<\u001b[39m \u001b[38;5;241m-\u001b[39m\u001b[38;5;241m250\u001b[39m\n",
      "File \u001b[0;32m/usr/local/lib/python3.8/dist-packages/scipy/fftpack/_basic.py:204\u001b[0m, in \u001b[0;36mrfft\u001b[0;34m(x, n, axis, overwrite_x)\u001b[0m\n\u001b[1;32m    146\u001b[0m \u001b[38;5;28;01mdef\u001b[39;00m \u001b[38;5;21mrfft\u001b[39m(x, n\u001b[38;5;241m=\u001b[39m\u001b[38;5;28;01mNone\u001b[39;00m, axis\u001b[38;5;241m=\u001b[39m\u001b[38;5;241m-\u001b[39m\u001b[38;5;241m1\u001b[39m, overwrite_x\u001b[38;5;241m=\u001b[39m\u001b[38;5;28;01mFalse\u001b[39;00m):\n\u001b[1;32m    147\u001b[0m     \u001b[38;5;124;03m\"\"\"\u001b[39;00m\n\u001b[1;32m    148\u001b[0m \u001b[38;5;124;03m    Discrete Fourier transform of a real sequence.\u001b[39;00m\n\u001b[1;32m    149\u001b[0m \n\u001b[0;32m   (...)\u001b[0m\n\u001b[1;32m    202\u001b[0m \n\u001b[1;32m    203\u001b[0m \u001b[38;5;124;03m    \"\"\"\u001b[39;00m\n\u001b[0;32m--> 204\u001b[0m     \u001b[38;5;28;01mreturn\u001b[39;00m \u001b[43m_pocketfft\u001b[49m\u001b[38;5;241;43m.\u001b[39;49m\u001b[43mrfft_fftpack\u001b[49m\u001b[43m(\u001b[49m\u001b[43mx\u001b[49m\u001b[43m,\u001b[49m\u001b[43m \u001b[49m\u001b[43mn\u001b[49m\u001b[43m,\u001b[49m\u001b[43m \u001b[49m\u001b[43maxis\u001b[49m\u001b[43m,\u001b[49m\u001b[43m \u001b[49m\u001b[38;5;28;43;01mNone\u001b[39;49;00m\u001b[43m,\u001b[49m\u001b[43m \u001b[49m\u001b[43moverwrite_x\u001b[49m\u001b[43m)\u001b[49m\n",
      "File \u001b[0;32m/usr/local/lib/python3.8/dist-packages/scipy/fft/_pocketfft/basic.py:285\u001b[0m, in \u001b[0;36mr2r_fftpack\u001b[0;34m(forward, x, n, axis, norm, overwrite_x)\u001b[0m\n\u001b[1;32m    283\u001b[0m     tmp, copied \u001b[38;5;241m=\u001b[39m _fix_shape_1d(tmp, n, axis)\n\u001b[1;32m    284\u001b[0m     overwrite_x \u001b[38;5;241m=\u001b[39m overwrite_x \u001b[38;5;129;01mor\u001b[39;00m copied\n\u001b[0;32m--> 285\u001b[0m \u001b[38;5;28;01melif\u001b[39;00m \u001b[43mtmp\u001b[49m\u001b[38;5;241;43m.\u001b[39;49m\u001b[43mshape\u001b[49m\u001b[43m[\u001b[49m\u001b[43maxis\u001b[49m\u001b[43m]\u001b[49m \u001b[38;5;241m<\u001b[39m \u001b[38;5;241m1\u001b[39m:\n\u001b[1;32m    286\u001b[0m     \u001b[38;5;28;01mraise\u001b[39;00m \u001b[38;5;167;01mValueError\u001b[39;00m(\u001b[38;5;124m\"\u001b[39m\u001b[38;5;124minvalid number of data points (\u001b[39m\u001b[38;5;132;01m{0}\u001b[39;00m\u001b[38;5;124m) specified\u001b[39m\u001b[38;5;124m\"\u001b[39m\n\u001b[1;32m    287\u001b[0m                      \u001b[38;5;241m.\u001b[39mformat(tmp\u001b[38;5;241m.\u001b[39mshape[axis]))\n\u001b[1;32m    289\u001b[0m out \u001b[38;5;241m=\u001b[39m (tmp \u001b[38;5;28;01mif\u001b[39;00m overwrite_x \u001b[38;5;28;01melse\u001b[39;00m \u001b[38;5;28;01mNone\u001b[39;00m)\n",
      "\u001b[0;31mIndexError\u001b[0m: tuple index out of range"
     ]
    }
   ],
   "source": [
    "yf = rfft(res3)\n",
    "assert yf[800] < -250"
   ]
  },
  {
   "cell_type": "code",
   "execution_count": 119,
   "id": "48fcec08",
   "metadata": {
    "deletable": false,
    "editable": false,
    "nbgrader": {
     "cell_type": "code",
     "checksum": "cf65f63c2f39a5c0f89f5096a5759c9f",
     "grade": true,
     "grade_id": "q5t4",
     "locked": true,
     "points": 1,
     "schema_version": 3,
     "solution": false,
     "task": false
    }
   },
   "outputs": [
    {
     "ename": "NameError",
     "evalue": "name 'yf' is not defined",
     "output_type": "error",
     "traceback": [
      "\u001b[0;31m---------------------------------------------------------------------------\u001b[0m",
      "\u001b[0;31mNameError\u001b[0m                                 Traceback (most recent call last)",
      "Input \u001b[0;32mIn [119]\u001b[0m, in \u001b[0;36m<cell line: 1>\u001b[0;34m()\u001b[0m\n\u001b[0;32m----> 1\u001b[0m \u001b[38;5;28;01massert\u001b[39;00m \u001b[43myf\u001b[49m[\u001b[38;5;241m3800\u001b[39m] \u001b[38;5;241m<\u001b[39m \u001b[38;5;241m-\u001b[39m\u001b[38;5;241m250\u001b[39m\n",
      "\u001b[0;31mNameError\u001b[0m: name 'yf' is not defined"
     ]
    }
   ],
   "source": [
    "assert yf[3800] < -250"
   ]
  },
  {
   "cell_type": "code",
   "execution_count": null,
   "id": "b1717bea",
   "metadata": {},
   "outputs": [],
   "source": []
  }
 ],
 "metadata": {
  "kernelspec": {
   "display_name": "Python 3 (ipykernel)",
   "language": "python",
   "name": "python3"
  },
  "language_info": {
   "codemirror_mode": {
    "name": "ipython",
    "version": 3
   },
   "file_extension": ".py",
   "mimetype": "text/x-python",
   "name": "python",
   "nbconvert_exporter": "python",
   "pygments_lexer": "ipython3",
   "version": "3.8.10"
  }
 },
 "nbformat": 4,
 "nbformat_minor": 5
}
