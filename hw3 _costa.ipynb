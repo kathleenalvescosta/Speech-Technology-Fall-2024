{
 "cells": [
  {
   "cell_type": "markdown",
   "id": "33009818",
   "metadata": {
    "deletable": false,
    "editable": false,
    "nbgrader": {
     "cell_type": "markdown",
     "checksum": "e04342f6263593074d55c2da51c31a8c",
     "grade": false,
     "grade_id": "header",
     "locked": true,
     "schema_version": 3,
     "solution": false,
     "task": false
    }
   },
   "source": [
    "<img src='https://hammondm.github.io/hltlogo1.png' style=\"float:right\">\n",
    "\n",
    "Linguistics 578<br>\n",
    "Fall 2024<br>\n",
    "Hammond\n",
    "\n",
    "## Things to remember about any homework assignment:\n",
    "\n",
    "1. For this assignment, you will edit this jupyter notebook and turn it in. Do not turn in pdf files or separate `.py` files.\n",
    "1. Late work is not accepted.\n",
    "1. Given the way I grade, you should try to answer *every* question, even if you don't like your answer or have to guess.\n",
    "1. You may *not* use `python` modules that we have not already used in class.\n",
    "1. You may certainly talk to your classmates about the assignment, but everybody must turn in *their own* work. It is not acceptable to turn in work that is essentially the same as the work of classmates.\n",
    "1. All code must run. It doesn't have to be perfect, it may not do all that you want it to do, but it must run without error.\n",
    "1. Code must run in reasonable time. Assume that if it takes more than *5 minutes* to run (on your machine), that's too long.\n",
    "1. Please do not add, remove, or copy autograded cells.\n",
    "1. Make sure to select `restart, run all cells` from the `kernel` menu when you're done and before you turn this in!"
   ]
  },
  {
   "cell_type": "markdown",
   "id": "f6d5b62f",
   "metadata": {},
   "source": [
    "***\n",
    "\n",
    "***my name***: Kathleen Costa\n",
    "\n",
    "***people I talked to about the assignment***: N/A\n",
    "\n",
    "***"
   ]
  },
  {
   "cell_type": "markdown",
   "id": "1311e7df",
   "metadata": {
    "deletable": false,
    "editable": false,
    "nbgrader": {
     "cell_type": "markdown",
     "checksum": "e6b163bdf39c1ac76cf9e375bc96ff2a",
     "grade": false,
     "grade_id": "intro",
     "locked": true,
     "schema_version": 3,
     "solution": false,
     "task": false
    }
   },
   "source": [
    "## Homework #3\n",
    "\n",
    "Here are the imports. Please do not import anything else."
   ]
  },
  {
   "cell_type": "code",
   "execution_count": 1,
   "id": "8229b9a0",
   "metadata": {
    "deletable": false,
    "editable": false,
    "nbgrader": {
     "cell_type": "code",
     "checksum": "ba3712d233065c66ffa5958e48202944",
     "grade": false,
     "grade_id": "imports",
     "locked": true,
     "schema_version": 3,
     "solution": false,
     "task": false
    }
   },
   "outputs": [],
   "source": [
    "import graphviz"
   ]
  },
  {
   "cell_type": "markdown",
   "id": "c513f316",
   "metadata": {
    "deletable": false,
    "editable": false,
    "nbgrader": {
     "cell_type": "markdown",
     "checksum": "000d6a1a9588257ad8e756c8dd33af62",
     "grade": false,
     "grade_id": "fsacode",
     "locked": true,
     "schema_version": 3,
     "solution": false,
     "task": false
    }
   },
   "source": [
    "Here's the last version of the `FSA` class from this week's notebook.\n",
    "\n",
    "```python\n",
    "class FSA:\n",
    "    #initialize with optional sets\n",
    "    def __init__(self,start={},final={},arcs={}):\n",
    "        self.start = start\n",
    "        self.final = final\n",
    "        self.arcs = arcs\n",
    "    #get the full list of states\n",
    "    def states(self):\n",
    "        states = set()\n",
    "        for s in self.start: states.add(s)\n",
    "        for s in self.final: states.add(s)\n",
    "        for a in self.arcs:\n",
    "            states.add(a[0])\n",
    "            states.add(a[2])\n",
    "        return states\n",
    "    #display the FSA\n",
    "    def dot(self):\n",
    "        dot = graphviz.Digraph(graph_attr={'rankdir':'LR'})\n",
    "        allstates = self.states()\n",
    "        nonfinal = allstates.difference(self.final)\n",
    "        dot.node('s',style='invisible')\n",
    "        for s in nonfinal: dot.node(str(s),shape='circle')\n",
    "        for s in self.final:\n",
    "            dot.node(str(s),shape='doublecircle')\n",
    "        for s in self.start: dot.edge('s',str(s))\n",
    "        for a in self.arcs:\n",
    "            dot.edge(str(a[0]),str(a[2]),label=str(a[1]))\n",
    "        return dot\n",
    "    #acceptability form a start state\n",
    "    def accept(self,s):\n",
    "        #check all start states\n",
    "        for state in self.start:\n",
    "            #exit as soon as one works\n",
    "            if self._accept(s,state):\n",
    "                return True\n",
    "        return False\n",
    "    #acceptability from any state\n",
    "    def _accept(self,s,st):\n",
    "        #exit from the recursion\n",
    "        if s == '':\n",
    "            if st in self.final: return True\n",
    "            else: return False\n",
    "        #recursive clause\n",
    "        else:\n",
    "            for arc in self.arcs:\n",
    "                if arc[0] == st and s[0] == arc[1]:\n",
    "                    if self._accept(s[1:],arc[2]):\n",
    "                        return True\n",
    "        return False\n",
    "    def alphabet(self):\n",
    "        alphabet = set()\n",
    "        for a in self.arcs:\n",
    "            alphabet.add(a[1])\n",
    "        return alphabet\n",
    "    def isComplete(self):\n",
    "        states = self.states()\n",
    "        alphabet = self.alphabet()\n",
    "        c = {}\n",
    "        for a in self.arcs:\n",
    "            if a[1] in c:\n",
    "                c[a[1]].add(a[0])\n",
    "            else:\n",
    "                c[a[1]] = {a[0]}\n",
    "        for a in c:\n",
    "            if len(c[a]) < len(states):\n",
    "                return False\n",
    "        return True\n",
    "    def complete(self):\n",
    "        if self.isComplete():\n",
    "            print('FSA is already complete')\n",
    "        else:\n",
    "            states = self.states()\n",
    "            alphabet = self.alphabet()\n",
    "            newstate = 0\n",
    "            while newstate in states:\n",
    "                newstate += 1\n",
    "            c = {}\n",
    "            for a in self.arcs:\n",
    "                if a[1] in c:\n",
    "                    c[a[1]].add(a[0])\n",
    "                else:\n",
    "                    c[a[1]] = {a[0]}\n",
    "            start = self.start.copy()\n",
    "            final = self.final.copy()\n",
    "            arcs = set()\n",
    "            for a in self.arcs:\n",
    "                arcs.add(a)\n",
    "            for symbol in alphabet:\n",
    "                arcs.add((newstate,symbol,newstate))\n",
    "            for symbol in c:\n",
    "                if len(c[symbol]) < len(states):\n",
    "                    for state in states:\n",
    "                        if state not in c[symbol]:\n",
    "                            arcs.add((state,symbol,newstate))\n",
    "            fsa = FSA(\n",
    "                start=start,\n",
    "                final=final,\n",
    "                arcs=arcs\n",
    "            )\n",
    "            return fsa\n",
    "```"
   ]
  },
  {
   "cell_type": "markdown",
   "id": "d973b36e",
   "metadata": {
    "deletable": false,
    "editable": false,
    "nbgrader": {
     "cell_type": "markdown",
     "checksum": "71ff253ee6986a905f3db02ac8b17dee",
     "grade": false,
     "grade_id": "q1text",
     "locked": true,
     "schema_version": 3,
     "solution": false,
     "task": false
    }
   },
   "source": [
    "1. Tweak the `accept()` and `_accept()` methods so that you can accommodate $\\epsilon$-arcs. **This is tricky!** In principle, it's possible to have direct or indirect loops with only $\\epsilon$. If you're not careful, you can end up in an infinite loop."
   ]
  },
  {
   "cell_type": "code",
   "execution_count": 2,
   "id": "6d98e876",
   "metadata": {
    "deletable": false,
    "nbgrader": {
     "cell_type": "code",
     "checksum": "475eb3f4e65621ad9c2c8ae605806cfc",
     "grade": false,
     "grade_id": "q1a",
     "locked": false,
     "schema_version": 3,
     "solution": true,
     "task": false
    }
   },
   "outputs": [],
   "source": [
    "class FSA:\n",
    "    #initialize with optional sets\n",
    "    def __init__(self,start={},final={},arcs={}):\n",
    "        self.start = start\n",
    "        self.final = final\n",
    "        self.arcs = arcs\n",
    "    #get the full list of states\n",
    "    def states(self):\n",
    "        states = set()\n",
    "        for s in self.start: states.add(s)\n",
    "        for s in self.final: states.add(s)\n",
    "        for a in self.arcs:\n",
    "            states.add(a[0])\n",
    "            states.add(a[2])\n",
    "        return states\n",
    "    #display the FSA\n",
    "    def dot(self):\n",
    "        dot = graphviz.Digraph(graph_attr={'rankdir':'LR'})\n",
    "        allstates = self.states()\n",
    "        nonfinal = allstates.difference(self.final)\n",
    "        dot.node('s',style='invisible')\n",
    "        for s in nonfinal: dot.node(str(s),shape='circle')\n",
    "        for s in self.final:\n",
    "            dot.node(str(s),shape='doublecircle')\n",
    "        for s in self.start: dot.edge('s',str(s))\n",
    "        for a in self.arcs:\n",
    "            dot.edge(str(a[0]),str(a[2]),label=str(a[1]))\n",
    "        return dot\n",
    "    #acceptability form a start state\n",
    "    def accept(self,s):\n",
    "        # YOUR CODE HERE\n",
    "        return any(self._accept(s, start_state, set()) for start_state in self.start)\n",
    "    #acceptability from any state\n",
    "    def _accept(self,s,st,zeros):\n",
    "        '''the zeros argument is meant to be a set that\n",
    "        includes all states that have been visited by\n",
    "        epsilon-arcs. It starts out empty and gets\n",
    "        populated as you use epsilon arcs. Once you hit\n",
    "        a non-epsilon-arc, it's reset to empty, until you\n",
    "        hit an epsilon arc again.\n",
    "        '''\n",
    "        # YOUR CODE HERE\n",
    "        if not s:\n",
    "            return st in self.final\n",
    "        if st in zeros:\n",
    "            return False\n",
    "        zeros.add(st)\n",
    "        epsilon_states = set([st])\n",
    "        stack = [st]\n",
    "        while stack:\n",
    "            current = stack.pop()\n",
    "            for arc in self.arcs:\n",
    "                if arc[0] == current and arc[1] == '':\n",
    "                    next_state = arc[2]\n",
    "                    if next_state not in epsilon_states:\n",
    "                        epsilon_states.add(next_state)\n",
    "                        stack.append(next_state)\n",
    "        symbol = s[0]\n",
    "        rest_string = s[1:]\n",
    "        for state in epsilon_states:\n",
    "            for arc in self.arcs:\n",
    "                if arc[0] == state and arc[1] == symbol:\n",
    "                    next_state = arc[2]\n",
    "                    if self._accept(rest_string, next_state, set()):\n",
    "                        return True\n",
    "        return False\n",
    "###\n",
    "    def alphabet(self):\n",
    "        alphabet = set()\n",
    "        for a in self.arcs:\n",
    "            alphabet.add(a[1])\n",
    "        return alphabet\n",
    "    def isComplete(self):\n",
    "        states = self.states()\n",
    "        alphabet = self.alphabet()\n",
    "        c = {}\n",
    "        for a in self.arcs:\n",
    "            if a[1] in c:\n",
    "                c[a[1]].add(a[0])\n",
    "            else:\n",
    "                c[a[1]] = {a[0]}\n",
    "        for a in c:\n",
    "            if len(c[a]) < len(states):\n",
    "                return False\n",
    "        return True\n",
    "    def complete(self):\n",
    "        if self.isComplete():\n",
    "            print('FSA is already complete')\n",
    "        else:\n",
    "            states = self.states()\n",
    "            alphabet = self.alphabet()\n",
    "            newstate = 0\n",
    "            while newstate in states:\n",
    "                newstate += 1\n",
    "            c = {}\n",
    "            for a in self.arcs:\n",
    "                if a[1] in c:\n",
    "                    c[a[1]].add(a[0])\n",
    "                else:\n",
    "                    c[a[1]] = {a[0]}\n",
    "            start = self.start.copy()\n",
    "            final = self.final.copy()\n",
    "            arcs = set()\n",
    "            for a in self.arcs:\n",
    "                arcs.add(a)\n",
    "            for symbol in alphabet:\n",
    "                arcs.add((newstate,symbol,newstate))\n",
    "            for symbol in c:\n",
    "                if len(c[symbol]) < len(states):\n",
    "                    for state in states:\n",
    "                        if state not in c[symbol]:\n",
    "                            arcs.add((state,symbol,newstate))\n",
    "            fsa = FSA(\n",
    "                start=start,\n",
    "                final=final,\n",
    "                arcs=arcs\n",
    "            )\n",
    "            return fsa"
   ]
  },
  {
   "cell_type": "code",
   "execution_count": 3,
   "id": "1259856f",
   "metadata": {
    "deletable": false,
    "editable": false,
    "nbgrader": {
     "cell_type": "code",
     "checksum": "1e82da89a3ca97f575dcc9455b89e37b",
     "grade": true,
     "grade_id": "q1t1",
     "locked": true,
     "points": 1,
     "schema_version": 3,
     "solution": false,
     "task": false
    }
   },
   "outputs": [],
   "source": [
    "fsa = FSA(\n",
    "    start = {0},\n",
    "    final = {1},\n",
    "    arcs = {\n",
    "        (0,'a',0),\n",
    "        (0,'',1),\n",
    "        (1,'b',1)\n",
    "    }\n",
    ")\n",
    "assert fsa.accept('aabb')"
   ]
  },
  {
   "cell_type": "code",
   "execution_count": 4,
   "id": "4fe1ea80",
   "metadata": {
    "deletable": false,
    "editable": false,
    "nbgrader": {
     "cell_type": "code",
     "checksum": "5391eb0cd812cd884bde02c91846c9c6",
     "grade": true,
     "grade_id": "q1t2",
     "locked": true,
     "points": 1,
     "schema_version": 3,
     "solution": false,
     "task": false
    }
   },
   "outputs": [],
   "source": [
    "assert not fsa.accept('ba')"
   ]
  },
  {
   "cell_type": "code",
   "execution_count": 5,
   "id": "70cada69",
   "metadata": {
    "deletable": false,
    "editable": false,
    "nbgrader": {
     "cell_type": "code",
     "checksum": "efaab3c74a29bee007572c948a6fcd2b",
     "grade": true,
     "grade_id": "q1t3",
     "locked": true,
     "points": 1,
     "schema_version": 3,
     "solution": false,
     "task": false
    }
   },
   "outputs": [],
   "source": [
    "fsa2 = FSA(\n",
    "    start = {0},\n",
    "    final = {1},\n",
    "    arcs = {\n",
    "        (0,'a',0),\n",
    "        (0,'',1),\n",
    "        (0,'',0),\n",
    "        (1,'b',1)\n",
    "    }\n",
    ")\n",
    "assert fsa2.accept('aabb')"
   ]
  },
  {
   "cell_type": "code",
   "execution_count": 6,
   "id": "92e6c935",
   "metadata": {
    "deletable": false,
    "editable": false,
    "nbgrader": {
     "cell_type": "code",
     "checksum": "646a5239205662033b020d8f1a2c294f",
     "grade": true,
     "grade_id": "q1t4",
     "locked": true,
     "points": 1,
     "schema_version": 3,
     "solution": false,
     "task": false
    }
   },
   "outputs": [],
   "source": [
    "assert not fsa2.accept('ba')"
   ]
  },
  {
   "cell_type": "markdown",
   "id": "447cccb1",
   "metadata": {
    "deletable": false,
    "editable": false,
    "nbgrader": {
     "cell_type": "markdown",
     "checksum": "ab9ed852f6419e41e9a8cdb24cd60139",
     "grade": false,
     "grade_id": "q2text",
     "locked": true,
     "schema_version": 3,
     "solution": false,
     "task": false
    }
   },
   "source": [
    "2. Now that we can accommodate $\\epsilon$, let's combine FSAs. To do this, we must first be able to make state names unique. In other words, if we have two FSAs $x$ and $y$ that we want to combine, we need to make sure the state names for the two are distinct. To do this, let's write a function that will convert the state names of an FSA to a sequence of digits beginning at any specified digit"
   ]
  },
  {
   "cell_type": "code",
   "execution_count": 7,
   "id": "6d20c687",
   "metadata": {
    "deletable": false,
    "nbgrader": {
     "cell_type": "code",
     "checksum": "e2681d5752a2fd5c2bf3e14c77370575",
     "grade": false,
     "grade_id": "q2a",
     "locked": false,
     "schema_version": 3,
     "solution": true,
     "task": false
    }
   },
   "outputs": [],
   "source": [
    "def newstatenames(fsa,n):\n",
    "    '''generate new state names\n",
    "    args:\n",
    "        fsa: an existing fsa\n",
    "        n: the digit to start from\n",
    "    returns:\n",
    "        a new fsa\n",
    "    '''\n",
    "    # YOUR CODE HERE\n",
    "    statemap = {}\n",
    "    current_state = n\n",
    "    for state in fsa.states():  \n",
    "        statemap[state] = current_state\n",
    "        current_state += 1\n",
    "    \n",
    "    new_start = {statemap[s] for s in fsa.start}\n",
    "    new_final = {statemap[s] for s in fsa.final}\n",
    "    new_arcs = {(statemap[a[0]], a[1], statemap[a[2]]) for a in fsa.arcs}\n",
    "    \n",
    "    new_fsa = FSA(\n",
    "        start=new_start,\n",
    "        final=new_final,\n",
    "        arcs=new_arcs\n",
    "    )\n",
    "    \n",
    "    return new_fsa"
   ]
  },
  {
   "cell_type": "code",
   "execution_count": 8,
   "id": "26eda20d",
   "metadata": {
    "deletable": false,
    "editable": false,
    "nbgrader": {
     "cell_type": "code",
     "checksum": "536b853dc994a271b173a9569520c1dd",
     "grade": true,
     "grade_id": "q2t1",
     "locked": true,
     "points": 1,
     "schema_version": 3,
     "solution": false,
     "task": false
    }
   },
   "outputs": [],
   "source": [
    "fsa3 = FSA(\n",
    "    start = {33},\n",
    "    final = {10},\n",
    "    arcs = {\n",
    "        (33,'a',33),\n",
    "        (33,'b',14),\n",
    "        (14,'a',10),\n",
    "        (10,'b',10)\n",
    "    }\n",
    ")\n",
    "assert newstatenames(fsa3,4).states() == {5,6,4}"
   ]
  },
  {
   "cell_type": "markdown",
   "id": "ffe3d264",
   "metadata": {
    "deletable": false,
    "editable": false,
    "nbgrader": {
     "cell_type": "markdown",
     "checksum": "f921bf5f5046838fb44026d04a3a77a0",
     "grade": false,
     "grade_id": "q3text",
     "locked": true,
     "schema_version": 3,
     "solution": false,
     "task": false
    }
   },
   "source": [
    "3. Now write a function that takes two FSAs and returns a new FSA that is their concatenation. This new function should call `newstatenames()` and make use of $\\epsilon$-arcs."
   ]
  },
  {
   "cell_type": "code",
   "execution_count": 9,
   "id": "c536e3cc",
   "metadata": {
    "deletable": false,
    "nbgrader": {
     "cell_type": "code",
     "checksum": "1525d21c97eb63951d49f48efbda96e1",
     "grade": false,
     "grade_id": "q3a",
     "locked": false,
     "schema_version": 3,
     "solution": true,
     "task": false
    }
   },
   "outputs": [],
   "source": [
    "def concatenate(f1,f2):\n",
    "    '''return the concatenation of two FSAs\n",
    "    args:\n",
    "        f1: the first FSA\n",
    "        f2: the second FSA\n",
    "    returns:\n",
    "        a new FSA that's the concatenation of the two arguments\n",
    "    '''\n",
    "    # YOUR CODE HERE\n",
    "    new_state_mapping = {}\n",
    "    new_start_state = 0\n",
    "\n",
    "    for state in f1.states():\n",
    "        new_state_mapping[state] = new_start_state\n",
    "        new_start_state += 1\n",
    "\n",
    "    offset = new_start_state\n",
    "\n",
    "    for state in f2.states():\n",
    "        new_state_mapping[state] = new_start_state\n",
    "        new_start_state += 1\n",
    "\n",
    "    start_states = f1.start\n",
    "    final_states_f1 = f1.final\n",
    "    start_states_f2 = f2.start\n",
    "    final_states_f2 = f2.final\n",
    "\n",
    "    arcs = set()\n",
    "\n",
    "    for arc in f1.arcs:\n",
    "        arcs.add((new_state_mapping[arc[0]], arc[1], new_state_mapping[arc[2]]))\n",
    "\n",
    "    for arc in f2.arcs:\n",
    "        if arc[0] in new_state_mapping and arc[2] in new_state_mapping:\n",
    "            arcs.add((new_state_mapping[arc[0]], arc[1], new_state_mapping[arc[2]]))\n",
    "\n",
    "    for final_state in final_states_f1:\n",
    "        if final_state in new_state_mapping:\n",
    "            for start_state in start_states_f2:\n",
    "                if start_state in new_state_mapping:\n",
    "                    arcs.add((new_state_mapping[final_state], '', new_state_mapping[start_state]))\n",
    "\n",
    "    return FSA(\n",
    "        start={new_state_mapping[state] for state in start_states},\n",
    "        final={new_state_mapping[state] for state in final_states_f2},\n",
    "        arcs=arcs\n",
    "    )"
   ]
  },
  {
   "cell_type": "code",
   "execution_count": 10,
   "id": "6b0b68ea",
   "metadata": {
    "deletable": false,
    "editable": false,
    "nbgrader": {
     "cell_type": "code",
     "checksum": "249820a76855fb297b99927c97002a18",
     "grade": true,
     "grade_id": "q3t1",
     "locked": true,
     "points": 1,
     "schema_version": 3,
     "solution": false,
     "task": false
    }
   },
   "outputs": [],
   "source": [
    "fsa4 = FSA(\n",
    "    start={0},\n",
    "    final={1},\n",
    "    arcs={\n",
    "        (0,'a',0),\n",
    "        (0,'b',1)\n",
    "    }\n",
    ")\n",
    "fsa5 = FSA(\n",
    "    start={0},\n",
    "    final={2},\n",
    "    arcs={\n",
    "        (0,'c',1),\n",
    "        (1,'d',2)\n",
    "    }\n",
    ")\n",
    "fsa6 = concatenate(fsa4,fsa5)\n",
    "assert fsa6.accept('aabcd')"
   ]
  },
  {
   "cell_type": "code",
   "execution_count": 11,
   "id": "7f8088d8",
   "metadata": {
    "deletable": false,
    "editable": false,
    "nbgrader": {
     "cell_type": "code",
     "checksum": "5b4f0a5d7accb3bd6c86e4ba2c68c12c",
     "grade": true,
     "grade_id": "q3t2",
     "locked": true,
     "points": 1,
     "schema_version": 3,
     "solution": false,
     "task": false
    }
   },
   "outputs": [],
   "source": [
    "fsa7 = concatenate(fsa4,fsa4)\n",
    "assert fsa7.accept('baaab')"
   ]
  },
  {
   "cell_type": "code",
   "execution_count": 12,
   "id": "4b9c3da4",
   "metadata": {
    "deletable": false,
    "editable": false,
    "nbgrader": {
     "cell_type": "code",
     "checksum": "3d34ff496a3c3e2514feb2da40bdfbea",
     "grade": true,
     "grade_id": "q3t3",
     "locked": true,
     "points": 1,
     "schema_version": 3,
     "solution": false,
     "task": false
    }
   },
   "outputs": [
    {
     "ename": "AssertionError",
     "evalue": "",
     "output_type": "error",
     "traceback": [
      "\u001b[0;31m---------------------------------------------------------------------------\u001b[0m",
      "\u001b[0;31mAssertionError\u001b[0m                            Traceback (most recent call last)",
      "Input \u001b[0;32mIn [12]\u001b[0m, in \u001b[0;36m<cell line: 2>\u001b[0;34m()\u001b[0m\n\u001b[1;32m      1\u001b[0m fsa8 \u001b[38;5;241m=\u001b[39m concatenate(fsa5,fsa5)\n\u001b[0;32m----> 2\u001b[0m \u001b[38;5;28;01massert\u001b[39;00m \u001b[38;5;129;01mnot\u001b[39;00m fsa8\u001b[38;5;241m.\u001b[39maccept(\u001b[38;5;124m'\u001b[39m\u001b[38;5;124mcd\u001b[39m\u001b[38;5;124m'\u001b[39m)\n",
      "\u001b[0;31mAssertionError\u001b[0m: "
     ]
    }
   ],
   "source": [
    "fsa8 = concatenate(fsa5,fsa5)\n",
    "assert not fsa8.accept('cd')"
   ]
  },
  {
   "cell_type": "markdown",
   "id": "0b200a06",
   "metadata": {
    "deletable": false,
    "editable": false,
    "nbgrader": {
     "cell_type": "markdown",
     "checksum": "84ebf249df794cb01ae8f1734572ee92",
     "grade": false,
     "grade_id": "q4text",
     "locked": true,
     "schema_version": 3,
     "solution": false,
     "task": false
    }
   },
   "source": [
    "4. Let's now write a function that computes the $\\epsilon$-closure for a node. (This should really be a method of the `FSA` class, but it's easier to structure this assignment if it's an autonomous function.)"
   ]
  },
  {
   "cell_type": "code",
   "execution_count": null,
   "id": "b60f3696",
   "metadata": {
    "deletable": false,
    "nbgrader": {
     "cell_type": "code",
     "checksum": "67e690c8d91e5a091adbf9bd74520a37",
     "grade": false,
     "grade_id": "q4a",
     "locked": false,
     "schema_version": 3,
     "solution": true,
     "task": false
    }
   },
   "outputs": [],
   "source": [
    "def eclosure(fsa,node):\n",
    "    '''computes the e-closure for a node\n",
    "    args:\n",
    "        fsa: an FSA\n",
    "        node: a specific node\n",
    "    returns:\n",
    "        a set of nodes that can be reached only by\n",
    "        following only e-arcs\n",
    "    '''\n",
    "    # YOUR CODE HERE\n",
    "    closure = set()  \n",
    "    stack = [node]  \n",
    "    \n",
    "    while stack:\n",
    "        current_node = stack.pop()  \n",
    "        if current_node not in closure: \n",
    "            closure.add(current_node)\n",
    "            for arc in fsa.arcs:\n",
    "                if arc[0] == current_node and arc[1] == '':  \n",
    "                    stack.append(arc[2]) \n",
    "    return closure"
   ]
  },
  {
   "cell_type": "code",
   "execution_count": null,
   "id": "ed96b87e",
   "metadata": {
    "deletable": false,
    "editable": false,
    "nbgrader": {
     "cell_type": "code",
     "checksum": "ec612cdba64f04b3087a0fbd31675710",
     "grade": true,
     "grade_id": "q4t1",
     "locked": true,
     "points": 1,
     "schema_version": 3,
     "solution": false,
     "task": false
    }
   },
   "outputs": [],
   "source": [
    "fsa9 = FSA(\n",
    "    start = {0},\n",
    "    final = {2},\n",
    "    arcs = {\n",
    "        (0,'',1),\n",
    "        (1,'',2),\n",
    "        (0,'a',1),\n",
    "        (2,'b',2)\n",
    "    }\n",
    ")\n",
    "assert eclosure(fsa9,2) == {2}"
   ]
  },
  {
   "cell_type": "code",
   "execution_count": null,
   "id": "f692e10a",
   "metadata": {
    "deletable": false,
    "editable": false,
    "nbgrader": {
     "cell_type": "code",
     "checksum": "ea019ba85c841ca8ad3252830c71a97d",
     "grade": true,
     "grade_id": "q4t2",
     "locked": true,
     "points": 1,
     "schema_version": 3,
     "solution": false,
     "task": false
    }
   },
   "outputs": [],
   "source": [
    "assert eclosure(fsa9,0) == {0,1,2}"
   ]
  },
  {
   "cell_type": "code",
   "execution_count": null,
   "id": "963ff9e3",
   "metadata": {
    "deletable": false,
    "editable": false,
    "nbgrader": {
     "cell_type": "code",
     "checksum": "18f571ea50c856f40b6faa590d76322a",
     "grade": true,
     "grade_id": "q4t3",
     "locked": true,
     "points": 1,
     "schema_version": 3,
     "solution": false,
     "task": false
    }
   },
   "outputs": [],
   "source": [
    "assert eclosure(fsa9,1) == {1,2}"
   ]
  },
  {
   "cell_type": "markdown",
   "id": "5432531f",
   "metadata": {
    "deletable": false,
    "editable": false,
    "nbgrader": {
     "cell_type": "markdown",
     "checksum": "c52c68449b98dd7930e25fa4a17fa5d6",
     "grade": false,
     "grade_id": "q5text1",
     "locked": true,
     "schema_version": 3,
     "solution": false,
     "task": false
    }
   },
   "source": [
    "5. Now we'll write a function that determinizes an FSA. It should, of course, also remove any $\\epsilon$-arcs. It's convenient to have a powerset function to use for this, so here that is. Note that this operates on lists and produces a list of lists. You'll ultimately need to apply this to a set and produce a set of sets."
   ]
  },
  {
   "cell_type": "code",
   "execution_count": null,
   "id": "15d0b1a0",
   "metadata": {
    "deletable": false,
    "editable": false,
    "nbgrader": {
     "cell_type": "code",
     "checksum": "a88699ce1209490eca30904def8e48cd",
     "grade": false,
     "grade_id": "powerset",
     "locked": true,
     "schema_version": 3,
     "solution": false,
     "task": false
    }
   },
   "outputs": [],
   "source": [
    "def powerset(lst):\n",
    "    if len(lst) == 0:\n",
    "        return [[]]\n",
    "    subsets = []\n",
    "    first = lst[0]\n",
    "    rest = lst[1:]\n",
    "    for subset in powerset(rest):\n",
    "        subsets.append(subset)\n",
    "        subsets.append(subset[:] + [first])\n",
    "    return subsets"
   ]
  },
  {
   "cell_type": "markdown",
   "id": "1d8ca98f",
   "metadata": {
    "deletable": false,
    "editable": false,
    "nbgrader": {
     "cell_type": "markdown",
     "checksum": "90f6fa961905b8f2b75835f0c16d3228",
     "grade": false,
     "grade_id": "q5text2",
     "locked": true,
     "schema_version": 3,
     "solution": false,
     "task": false
    }
   },
   "source": [
    "Now we have the `determinize()` function:"
   ]
  },
  {
   "cell_type": "code",
   "execution_count": null,
   "id": "ac9903a2",
   "metadata": {
    "deletable": false,
    "nbgrader": {
     "cell_type": "code",
     "checksum": "5342dd447e0b7e94aa76fc8d471bc9ff",
     "grade": false,
     "grade_id": "q5a",
     "locked": false,
     "schema_version": 3,
     "solution": true,
     "task": false
    }
   },
   "outputs": [],
   "source": [
    "def determinize(fsa):\n",
    "    '''determinizes an FSA\n",
    "    args:\n",
    "        fsa: the FSA to determinize\n",
    "    returns:\n",
    "        a new determinized FSA\n",
    "    '''\n",
    "    # YOUR CODE HERE\n",
    "    def eclosure(states):\n",
    "        closure = set(states)\n",
    "        stack = list(states)\n",
    "        while stack:\n",
    "            state = stack.pop()\n",
    "            for arc in fsa.arcs:\n",
    "                if arc[0] == state and arc[1] == '':\n",
    "                    if arc[2] not in closure:\n",
    "                        closure.add(arc[2])\n",
    "                        stack.append(arc[2])\n",
    "        return closure\n",
    "\n",
    "    alphabet = {arc[1] for arc in fsa.arcs if arc[1] != ''}\n",
    "    \n",
    "    start_closure = eclosure(fsa.start)\n",
    "    \n",
    "    new_start = frozenset(start_closure)\n",
    "    unprocessed = [new_start]\n",
    "    processed = set()\n",
    "    new_arcs = set()\n",
    "    new_final = set()\n",
    "\n",
    "    state_mapping = {}\n",
    "    state_counter = 0\n",
    "    state_mapping[new_start] = state_counter\n",
    "    state_counter += 1\n",
    "\n",
    "    while unprocessed:\n",
    "        current_state = unprocessed.pop()\n",
    "        processed.add(current_state)\n",
    "\n",
    "        if any(state in fsa.final for state in current_state):\n",
    "            new_final.add(state_mapping[current_state])\n",
    "\n",
    "        for symbol in alphabet:\n",
    "            next_state = set()\n",
    "            for state in current_state:\n",
    "                for arc in fsa.arcs:\n",
    "                    if arc[0] == state and arc[1] == symbol:\n",
    "                        next_state.update(eclosure({arc[2]}))\n",
    "\n",
    "            if next_state:\n",
    "                frozen_next_state = frozenset(next_state)\n",
    "                if frozen_next_state not in state_mapping:\n",
    "                    state_mapping[frozen_next_state] = state_counter\n",
    "                    state_counter += 1\n",
    "                    unprocessed.append(frozen_next_state)\n",
    "                new_arcs.add((state_mapping[current_state], symbol, state_mapping[frozen_next_state]))\n",
    "\n",
    "    return FSA(\n",
    "        start={state_mapping[new_start]},\n",
    "        final=new_final,\n",
    "        arcs=new_arcs\n",
    "    )"
   ]
  },
  {
   "cell_type": "code",
   "execution_count": null,
   "id": "0425613f",
   "metadata": {
    "deletable": false,
    "editable": false,
    "nbgrader": {
     "cell_type": "code",
     "checksum": "cf3a01299976e239b872e203dec704c9",
     "grade": true,
     "grade_id": "q5t1",
     "locked": true,
     "points": 1,
     "schema_version": 3,
     "solution": false,
     "task": false
    }
   },
   "outputs": [],
   "source": [
    "fsa10 = FSA(\n",
    "    start={0},\n",
    "    final={2},\n",
    "    arcs={\n",
    "        (0,'a',0),\n",
    "        (0,'b',1),\n",
    "        (1,'b',1),\n",
    "        (1,'b',2)\n",
    "    }\n",
    ")\n",
    "fsa11 = determinize(fsa10)\n",
    "assert type(fsa11) == FSA"
   ]
  },
  {
   "cell_type": "code",
   "execution_count": null,
   "id": "7a92c16a",
   "metadata": {
    "deletable": false,
    "editable": false,
    "nbgrader": {
     "cell_type": "code",
     "checksum": "420033c7b21ed1b3a9cfef311e222d44",
     "grade": true,
     "grade_id": "q5t2",
     "locked": true,
     "points": 1,
     "schema_version": 3,
     "solution": false,
     "task": false
    }
   },
   "outputs": [],
   "source": [
    "alphabet = 'ab'\n",
    "strings = [s1 + s2 + s3 + s4 \\\n",
    "           for s1 in alphabet \\\n",
    "           for s2 in alphabet \\\n",
    "           for s3 in alphabet \\\n",
    "           for s4 in alphabet\n",
    "          ]\n",
    "results = []\n",
    "for s in strings:\n",
    "    results.append(fsa10.accept(s) == fsa11.accept(s))\n",
    "assert all(results)"
   ]
  }
 ],
 "metadata": {
  "kernelspec": {
   "display_name": "Python 3 (ipykernel)",
   "language": "python",
   "name": "python3"
  },
  "language_info": {
   "codemirror_mode": {
    "name": "ipython",
    "version": 3
   },
   "file_extension": ".py",
   "mimetype": "text/x-python",
   "name": "python",
   "nbconvert_exporter": "python",
   "pygments_lexer": "ipython3",
   "version": "3.8.10"
  }
 },
 "nbformat": 4,
 "nbformat_minor": 5
}
