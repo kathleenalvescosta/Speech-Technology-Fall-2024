{
 "cells": [
  {
   "cell_type": "markdown",
   "id": "8971eefe",
   "metadata": {
    "deletable": false,
    "editable": false,
    "nbgrader": {
     "cell_type": "markdown",
     "checksum": "e04342f6263593074d55c2da51c31a8c",
     "grade": false,
     "grade_id": "header",
     "locked": true,
     "schema_version": 3,
     "solution": false,
     "task": false
    }
   },
   "source": [
    "<img src='https://hammondm.github.io/hltlogo1.png' style=\"float:right\">\n",
    "\n",
    "Linguistics 578<br>\n",
    "Fall 2024<br>\n",
    "Hammond\n",
    "\n",
    "## Things to remember about any homework assignment:\n",
    "\n",
    "1. For this assignment, you will edit this jupyter notebook and turn it in. Do not turn in pdf files or separate `.py` files.\n",
    "1. Late work is not accepted.\n",
    "1. Given the way I grade, you should try to answer *every* question, even if you don't like your answer or have to guess.\n",
    "1. You may *not* use `python` modules that we have not already used in class.\n",
    "1. You may certainly talk to your classmates about the assignment, but everybody must turn in *their own* work. It is not acceptable to turn in work that is essentially the same as the work of classmates.\n",
    "1. All code must run. It doesn't have to be perfect, it may not do all that you want it to do, but it must run without error.\n",
    "1. Code must run in reasonable time. Assume that if it takes more than *5 minutes* to run (on your machine), that's too long.\n",
    "1. Please do not add, remove, or copy autograded cells.\n",
    "1. Make sure to select `restart, run all cells` from the `kernel` menu when you're done and before you turn this in!"
   ]
  },
  {
   "cell_type": "markdown",
   "id": "5b02e990",
   "metadata": {},
   "source": [
    "***\n",
    "\n",
    "***my name***: [put your name here]\n",
    "\n",
    "***people I talked to about the assignment***: [put your answer here]\n",
    "\n",
    "***"
   ]
  },
  {
   "cell_type": "markdown",
   "id": "71b3a011",
   "metadata": {
    "deletable": false,
    "editable": false,
    "nbgrader": {
     "cell_type": "markdown",
     "checksum": "cb5f077094ed42ff4fd5b63898edfd80",
     "grade": false,
     "grade_id": "intro",
     "locked": true,
     "schema_version": 3,
     "solution": false,
     "task": false
    }
   },
   "source": [
    "## Homework #2\n",
    "\n",
    "Here are the imports. Please do not import anything else."
   ]
  },
  {
   "cell_type": "code",
   "execution_count": 287,
   "id": "f91bad12",
   "metadata": {
    "deletable": false,
    "editable": false,
    "nbgrader": {
     "cell_type": "code",
     "checksum": "41516c038c14eb2fa5f9a89be6dcad69",
     "grade": false,
     "grade_id": "imports",
     "locked": true,
     "schema_version": 3,
     "solution": false,
     "task": false
    }
   },
   "outputs": [],
   "source": [
    "import numpy as np\n",
    "from scipy.io import wavfile\n",
    "from numpy.fft import rfft,irfft,rfftfreq\n",
    "import matplotlib.pyplot as plt\n",
    "import librosa"
   ]
  },
  {
   "cell_type": "markdown",
   "id": "53f903a2",
   "metadata": {
    "deletable": false,
    "editable": false,
    "nbgrader": {
     "cell_type": "markdown",
     "checksum": "87435283fbba2aea39337b207fd06280",
     "grade": false,
     "grade_id": "q1text",
     "locked": true,
     "schema_version": 3,
     "solution": false,
     "task": false
    }
   },
   "source": [
    "1. Write a function that will break a sound file into a specific number of windows."
   ]
  },
  {
   "cell_type": "code",
   "execution_count": 315,
   "id": "8fbf141d",
   "metadata": {
    "deletable": false,
    "nbgrader": {
     "cell_type": "code",
     "checksum": "5a6c84223b0d797f74d620176fb26bff",
     "grade": false,
     "grade_id": "q1a",
     "locked": false,
     "schema_version": 3,
     "solution": true,
     "task": false
    }
   },
   "outputs": [],
   "source": [
    "def makewindows(w, n):\n",
    "    '''Break a wave file into windows\n",
    "    args:\n",
    "        w: the sound file (as a numpy array)\n",
    "        n: a specific number of windows\n",
    "    returns:\n",
    "        the windows as a numpy array/matrix.\n",
    "        (each row is a window)\n",
    "    '''\n",
    "    length = len(w)  \n",
    "    window_size = length // n  \n",
    "    remainder = length % n     \n",
    "\n",
    "    windows = []\n",
    "    for i in range(n):\n",
    "        start_idx = i * window_size\n",
    "        end_idx = start_idx + window_size\n",
    "\n",
    "        if remainder > 0:\n",
    "            end_idx += 1\n",
    "            remainder -= 1\n",
    "\n",
    "        windows.append(w[start_idx:end_idx])\n",
    "\n",
    "    max_len = max([len(win) for win in windows])\n",
    "    padded_windows = [np.pad(win, (0, max_len - len(win)), 'constant') for win in windows]\n",
    "\n",
    "    windows_array = np.vstack(padded_windows)\n",
    "\n",
    "    return windows_array"
   ]
  },
  {
   "cell_type": "code",
   "execution_count": 316,
   "id": "a806cd28",
   "metadata": {
    "deletable": false,
    "editable": false,
    "nbgrader": {
     "cell_type": "code",
     "checksum": "8fd2bd226739c19810210241b70ca6e7",
     "grade": true,
     "grade_id": "q1t1",
     "locked": true,
     "points": 1,
     "schema_version": 3,
     "solution": false,
     "task": false
    }
   },
   "outputs": [
    {
     "ename": "AssertionError",
     "evalue": "",
     "output_type": "error",
     "traceback": [
      "\u001b[0;31m---------------------------------------------------------------------------\u001b[0m",
      "\u001b[0;31mAssertionError\u001b[0m                            Traceback (most recent call last)",
      "Input \u001b[0;32mIn [316]\u001b[0m, in \u001b[0;36m<cell line: 2>\u001b[0;34m()\u001b[0m\n\u001b[1;32m      1\u001b[0m res \u001b[38;5;241m=\u001b[39m makewindows(np\u001b[38;5;241m.\u001b[39marange(\u001b[38;5;241m50\u001b[39m),\u001b[38;5;241m8\u001b[39m)\n\u001b[0;32m----> 2\u001b[0m \u001b[38;5;28;01massert\u001b[39;00m res\u001b[38;5;241m.\u001b[39mshape \u001b[38;5;241m==\u001b[39m (\u001b[38;5;241m8\u001b[39m,\u001b[38;5;241m6\u001b[39m)\n",
      "\u001b[0;31mAssertionError\u001b[0m: "
     ]
    }
   ],
   "source": [
    "res = makewindows(np.arange(50),8)\n",
    "assert res.shape == (8,6)"
   ]
  },
  {
   "cell_type": "code",
   "execution_count": 290,
   "id": "628401b2",
   "metadata": {
    "deletable": false,
    "editable": false,
    "nbgrader": {
     "cell_type": "code",
     "checksum": "4c21034546707376d9542ae6536bb623",
     "grade": true,
     "grade_id": "q1t2",
     "locked": true,
     "points": 1,
     "schema_version": 3,
     "solution": false,
     "task": false
    }
   },
   "outputs": [
    {
     "ename": "AssertionError",
     "evalue": "",
     "output_type": "error",
     "traceback": [
      "\u001b[0;31m---------------------------------------------------------------------------\u001b[0m",
      "\u001b[0;31mAssertionError\u001b[0m                            Traceback (most recent call last)",
      "Input \u001b[0;32mIn [290]\u001b[0m, in \u001b[0;36m<cell line: 1>\u001b[0;34m()\u001b[0m\n\u001b[0;32m----> 1\u001b[0m \u001b[38;5;28;01massert\u001b[39;00m \u001b[38;5;28mlen\u001b[39m(res[\u001b[38;5;241m7\u001b[39m]) \u001b[38;5;241m==\u001b[39m \u001b[38;5;241m6\u001b[39m\n",
      "\u001b[0;31mAssertionError\u001b[0m: "
     ]
    }
   ],
   "source": [
    "assert len(res[7]) == 6"
   ]
  },
  {
   "cell_type": "code",
   "execution_count": 291,
   "id": "2ce2bedb",
   "metadata": {
    "deletable": false,
    "editable": false,
    "nbgrader": {
     "cell_type": "code",
     "checksum": "5c014fdc71425925de96d9fac19354cc",
     "grade": true,
     "grade_id": "q1t3",
     "locked": true,
     "points": 1,
     "schema_version": 3,
     "solution": false,
     "task": false
    }
   },
   "outputs": [],
   "source": [
    "assert res[3,4] == 22"
   ]
  },
  {
   "cell_type": "markdown",
   "id": "585a15d1",
   "metadata": {
    "deletable": false,
    "editable": false,
    "nbgrader": {
     "cell_type": "markdown",
     "checksum": "0f26da58b7e6f14b0d8a3cb74d66c8bb",
     "grade": false,
     "grade_id": "q2text",
     "locked": true,
     "schema_version": 3,
     "solution": false,
     "task": false
    }
   },
   "source": [
    "2. Imagine you have a sound file that is 2.2 seconds long and sampled at 16000 samples a second that you break into windows that are .03sec long. How many samples occur in each window? (Round to the nearest whole number.)"
   ]
  },
  {
   "cell_type": "code",
   "execution_count": 292,
   "id": "25f4359f",
   "metadata": {
    "deletable": false,
    "nbgrader": {
     "cell_type": "code",
     "checksum": "86b646506bc769df691a4ddab9c60857",
     "grade": false,
     "grade_id": "q2a",
     "locked": false,
     "schema_version": 3,
     "solution": true,
     "task": false
    }
   },
   "outputs": [
    {
     "name": "stdout",
     "output_type": "stream",
     "text": [
      "480\n"
     ]
    }
   ],
   "source": [
    "#x = ?\n",
    "# YOUR CODE HERE\n",
    "def samples (rate, length):\n",
    "    sample_num = int(round(rate * length))\n",
    "    return sample_num\n",
    "\n",
    "rate = 16000\n",
    "length = 0.03\n",
    "\n",
    "x = samples(rate, length)\n",
    "print(x)"
   ]
  },
  {
   "cell_type": "code",
   "execution_count": 293,
   "id": "b3c5e015",
   "metadata": {
    "deletable": false,
    "editable": false,
    "nbgrader": {
     "cell_type": "code",
     "checksum": "fb76089c1b12addd4ad8b7dbde260a8e",
     "grade": true,
     "grade_id": "q2t1",
     "locked": true,
     "points": 1,
     "schema_version": 3,
     "solution": false,
     "task": false
    }
   },
   "outputs": [],
   "source": [
    "#this test is hidden!"
   ]
  },
  {
   "cell_type": "markdown",
   "id": "ab1bb96c",
   "metadata": {
    "deletable": false,
    "editable": false,
    "nbgrader": {
     "cell_type": "markdown",
     "checksum": "d4b2108d7944781f45260790a135531d",
     "grade": false,
     "grade_id": "q3text",
     "locked": true,
     "schema_version": 3,
     "solution": false,
     "task": false
    }
   },
   "source": [
    "3. Using the file `mhi.wav`, compute a cepstrum over the whole file and save it as `iceps`. Make sure to load the wave with `wavfile.read()`."
   ]
  },
  {
   "cell_type": "code",
   "execution_count": 308,
   "id": "fa13e7b5",
   "metadata": {
    "deletable": false,
    "nbgrader": {
     "cell_type": "code",
     "checksum": "be1021289b665e2bfb2397d074a37760",
     "grade": false,
     "grade_id": "q3a",
     "locked": false,
     "schema_version": 3,
     "solution": true,
     "task": false
    },
    "scrolled": true
   },
   "outputs": [
    {
     "name": "stdout",
     "output_type": "stream",
     "text": [
      "sample rate: 44100\n"
     ]
    }
   ],
   "source": [
    "#define these variables:\n",
    "#fs,w = ?\n",
    "#...\n",
    "#iceps = ?\n",
    "# YOUR CODE HERE\n",
    "fs, w = wavfile.read('mhi.wav')\n",
    "\n",
    "print(f'sample rate: {fs}')\n",
    "\n",
    "spec = rfft(w)\n",
    "freqs = rfftfreq(len(w), 1/fs)\n",
    "powerspec = np.abs(spec)**2\n",
    "\n",
    "ceps = irfft(np.log(powerspec + np.finfo(float).eps))  # Add epsilon to avoid log(0)\n",
    "\n",
    "iceps = ceps"
   ]
  },
  {
   "cell_type": "code",
   "execution_count": 309,
   "id": "4bf48624",
   "metadata": {
    "deletable": false,
    "editable": false,
    "nbgrader": {
     "cell_type": "code",
     "checksum": "ac615d204ddce8006412c7dc57046b03",
     "grade": true,
     "grade_id": "q3t1",
     "locked": true,
     "points": 1,
     "schema_version": 3,
     "solution": false,
     "task": false
    }
   },
   "outputs": [],
   "source": [
    "assert type(iceps) == np.ndarray"
   ]
  },
  {
   "cell_type": "code",
   "execution_count": 310,
   "id": "83ac4341",
   "metadata": {
    "deletable": false,
    "editable": false,
    "nbgrader": {
     "cell_type": "code",
     "checksum": "3c3d6e238ea2ce3968ad5c5128fbf5fb",
     "grade": true,
     "grade_id": "q3t2",
     "locked": true,
     "points": 1,
     "schema_version": 3,
     "solution": false,
     "task": false
    },
    "scrolled": true
   },
   "outputs": [],
   "source": [
    "assert np.isclose(iceps.shape[0],117626,atol=5)"
   ]
  },
  {
   "cell_type": "markdown",
   "id": "4b27fb7d",
   "metadata": {
    "deletable": false,
    "editable": false,
    "nbgrader": {
     "cell_type": "markdown",
     "checksum": "3e5125e3095a03b72d9c1bacea8b6aee",
     "grade": false,
     "grade_id": "cepstrumtext",
     "locked": true,
     "schema_version": 3,
     "solution": false,
     "task": false
    }
   },
   "source": [
    "Here we plot the lower cepstrum values:"
   ]
  },
  {
   "cell_type": "code",
   "execution_count": 297,
   "id": "3bcb1091",
   "metadata": {
    "deletable": false,
    "editable": false,
    "nbgrader": {
     "cell_type": "code",
     "checksum": "d5eec207f5f63eefd243007f1337081d",
     "grade": false,
     "grade_id": "cepstrumplot",
     "locked": true,
     "schema_version": 3,
     "solution": false,
     "task": false
    }
   },
   "outputs": [
    {
     "data": {
      "image/png": "[encoded data removed]",
      "text/plain": [
       "<Figure size 432x288 with 1 Axes>"
      ]
     },
     "metadata": {
      "needs_background": "light"
     },
     "output_type": "display_data"
    }
   ],
   "source": [
    "plt.plot(np.arange(10,400),np.abs(iceps[10:400]))\n",
    "plt.show()"
   ]
  },
  {
   "cell_type": "markdown",
   "id": "40e40502",
   "metadata": {
    "deletable": false,
    "editable": false,
    "nbgrader": {
     "cell_type": "markdown",
     "checksum": "83caf0fad327effc5a8470af318df349",
     "grade": false,
     "grade_id": "q4text",
     "locked": true,
     "schema_version": 3,
     "solution": false,
     "task": false
    }
   },
   "source": [
    "4. What is the frequency `f` and quefrency `q` of the fundamental frequency?"
   ]
  },
  {
   "cell_type": "code",
   "execution_count": 298,
   "id": "a5bfbe2a",
   "metadata": {
    "deletable": false,
    "nbgrader": {
     "cell_type": "code",
     "checksum": "6b7b5fcf71ca2cbfd7f07631a9d11ca5",
     "grade": false,
     "grade_id": "q4a",
     "locked": false,
     "schema_version": 3,
     "solution": true,
     "task": false
    }
   },
   "outputs": [
    {
     "name": "stdout",
     "output_type": "stream",
     "text": [
      "0.0 0.0\n"
     ]
    }
   ],
   "source": [
    "#q = ?\n",
    "#f = ?\n",
    "# YOUR CODE HERE\n",
    "def find_fundamental_freq_quefrency(ices, sample_rate):\n",
    "    data_segment = np.abs(ices[:400])\n",
    "\n",
    "    fft_result = rfft(data_segment)\n",
    "    freqs = rfftfreq(len(data_segment), d=1/sample_rate)\n",
    "\n",
    "    if np.all(fft_result == 0):\n",
    "        raise ValueError(\"FFT result contains all zeros. Check the input signal.\")\n",
    "\n",
    "    fundamental_freq_index = np.argmax(np.abs(fft_result))\n",
    "    fundamental_freq = freqs[fundamental_freq_index]\n",
    "\n",
    "    autocorr = np.correlate(data_segment, data_segment, mode='full')\n",
    "    autocorr = autocorr[autocorr.size // 2:]\n",
    "\n",
    "    quefrency_spectrum = irfft(autocorr)\n",
    "    fundamental_quefrency_index = np.argmax(np.abs(quefrency_spectrum))\n",
    "    fundamental_quefrency = fundamental_quefrency_index / sample_rate  # Convert index to time (quefrency)\n",
    "\n",
    "    return fundamental_freq, fundamental_quefrency\n",
    "\n",
    "#printing for my own verification that the code works\n",
    "print(fundamental_freq, fundamental_quefrency)"
   ]
  },
  {
   "cell_type": "code",
   "execution_count": null,
   "id": "a62580e4",
   "metadata": {
    "deletable": false,
    "editable": false,
    "nbgrader": {
     "cell_type": "code",
     "checksum": "ffddb2f1c3b4fc0d5f5c7ead37045c9a",
     "grade": true,
     "grade_id": "q4t1",
     "locked": true,
     "points": 1,
     "schema_version": 3,
     "solution": false,
     "task": false
    }
   },
   "outputs": [],
   "source": [
    "#this test is hidden!"
   ]
  },
  {
   "cell_type": "code",
   "execution_count": null,
   "id": "4a78e156",
   "metadata": {
    "deletable": false,
    "editable": false,
    "nbgrader": {
     "cell_type": "code",
     "checksum": "ec75c2f0f96fff3c73200763aa49bbfe",
     "grade": true,
     "grade_id": "q4t2",
     "locked": true,
     "points": 1,
     "schema_version": 3,
     "solution": false,
     "task": false
    }
   },
   "outputs": [],
   "source": [
    "#this test is hidden!"
   ]
  },
  {
   "cell_type": "markdown",
   "id": "fa2b785d",
   "metadata": {
    "deletable": false,
    "editable": false,
    "nbgrader": {
     "cell_type": "markdown",
     "checksum": "b3a927b69a90d7b0a28c6b723fd07a55",
     "grade": false,
     "grade_id": "q5text",
     "locked": true,
     "schema_version": 3,
     "solution": false,
     "task": false
    }
   },
   "source": [
    "5. With the wavefile you loaded for question \\#3, take the samples from 1000 to 1500 and compute a 4th-order LPC."
   ]
  },
  {
   "cell_type": "code",
   "execution_count": 311,
   "id": "ca0e4871",
   "metadata": {
    "deletable": false,
    "nbgrader": {
     "cell_type": "code",
     "checksum": "d8bea654101d5e2c9f13742dfb69d2be",
     "grade": false,
     "grade_id": "q5a",
     "locked": false,
     "schema_version": 3,
     "solution": true,
     "task": false
    }
   },
   "outputs": [
    {
     "name": "stdout",
     "output_type": "stream",
     "text": [
      "LPCs: [ 1.         -0.69986562 -0.12978302  0.04189589  0.01660406]\n"
     ]
    }
   ],
   "source": [
    "import numpy as np\n",
    "from scipy.io import wavfile\n",
    "#lpc = ?\n",
    "# YOUR CODE HERE\n",
    "fs, w = wavfile.read('mhi.wav')\n",
    "\n",
    "w = w[1000:1500]\n",
    "order = 4\n",
    "window_size = len(w)\n",
    "\n",
    "def autocorrelation(x):\n",
    "    r = np.correlate(x, x, mode='full')\n",
    "    return r[len(x)-1:]\n",
    "\n",
    "r = autocorrelation(w)\n",
    "R = np.zeros((order, order))\n",
    "\n",
    "for i in range(order):\n",
    "    for j in range(order):\n",
    "        R[i, j] = r[abs(i - j)]\n",
    "\n",
    "lpc = np.linalg.solve(R, r[1:order + 1])\n",
    "lpc = np.concatenate(([1], -lpc))\n",
    "lpc = np.array(lpc)\n",
    "\n",
    "#printing this out for my own verification\n",
    "print(f\"LPCs: {lpc}\")"
   ]
  },
  {
   "cell_type": "code",
   "execution_count": 312,
   "id": "45fe5321",
   "metadata": {
    "deletable": false,
    "editable": false,
    "nbgrader": {
     "cell_type": "code",
     "checksum": "7490187b9f9524436a536c52ebcf2447",
     "grade": true,
     "grade_id": "q5t1",
     "locked": true,
     "points": 1,
     "schema_version": 3,
     "solution": false,
     "task": false
    }
   },
   "outputs": [],
   "source": [
    "assert lpc.shape[0] == 5"
   ]
  },
  {
   "cell_type": "code",
   "execution_count": 313,
   "id": "383689a6",
   "metadata": {
    "deletable": false,
    "editable": false,
    "nbgrader": {
     "cell_type": "code",
     "checksum": "5ec516587332f876fdeb71bea5386484",
     "grade": true,
     "grade_id": "q5t2",
     "locked": true,
     "points": 1,
     "schema_version": 3,
     "solution": false,
     "task": false
    }
   },
   "outputs": [],
   "source": [
    "assert lpc[0] == 1"
   ]
  },
  {
   "cell_type": "code",
   "execution_count": 314,
   "id": "4041d09b",
   "metadata": {
    "deletable": false,
    "editable": false,
    "nbgrader": {
     "cell_type": "code",
     "checksum": "ef336e730ada3c64f2cc3006b54f8573",
     "grade": true,
     "grade_id": "q5t3",
     "locked": true,
     "points": 1,
     "schema_version": 3,
     "solution": false,
     "task": false
    }
   },
   "outputs": [],
   "source": [
    "assert np.isclose(lpc[1],-0.69,atol=.1)"
   ]
  },
  {
   "cell_type": "code",
   "execution_count": null,
   "id": "9525c06e",
   "metadata": {},
   "outputs": [],
   "source": []
  },
  {
   "cell_type": "code",
   "execution_count": null,
   "id": "cc9584f3",
   "metadata": {},
   "outputs": [],
   "source": []
  }
 ],
 "metadata": {
  "kernelspec": {
   "display_name": "Python 3 (ipykernel)",
   "language": "python",
   "name": "python3"
  },
  "language_info": {
   "codemirror_mode": {
    "name": "ipython",
    "version": 3
   },
   "file_extension": ".py",
   "mimetype": "text/x-python",
   "name": "python",
   "nbconvert_exporter": "python",
   "pygments_lexer": "ipython3",
   "version": "3.8.10"
  }
 },
 "nbformat": 4,
 "nbformat_minor": 5
}
