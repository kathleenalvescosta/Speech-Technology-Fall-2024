{
 "cells": [
  {
   "cell_type": "markdown",
   "id": "5950bd25",
   "metadata": {
    "deletable": false,
    "editable": false,
    "nbgrader": {
     "cell_type": "markdown",
     "checksum": "e04342f6263593074d55c2da51c31a8c",
     "grade": false,
     "grade_id": "header",
     "locked": true,
     "schema_version": 3,
     "solution": false,
     "task": false
    }
   },
   "source": [
    "<img src='https://hammondm.github.io/hltlogo1.png' style=\"float:right\">\n",
    "\n",
    "Linguistics 578<br>\n",
    "Fall 2024<br>\n",
    "Hammond\n",
    "\n",
    "## Things to remember about any homework assignment:\n",
    "\n",
    "1. For this assignment, you will edit this jupyter notebook and turn it in. Do not turn in pdf files or separate `.py` files.\n",
    "1. Late work is not accepted.\n",
    "1. Given the way I grade, you should try to answer *every* question, even if you don't like your answer or have to guess.\n",
    "1. You may *not* use `python` modules that we have not already used in class.\n",
    "1. You may certainly talk to your classmates about the assignment, but everybody must turn in *their own* work. It is not acceptable to turn in work that is essentially the same as the work of classmates.\n",
    "1. All code must run. It doesn't have to be perfect, it may not do all that you want it to do, but it must run without error.\n",
    "1. Code must run in reasonable time. Assume that if it takes more than *5 minutes* to run (on your machine), that's too long.\n",
    "1. Please do not add, remove, or copy autograded cells.\n",
    "1. Make sure to select `restart, run all cells` from the `kernel` menu when you're done and before you turn this in!"
   ]
  },
  {
   "cell_type": "markdown",
   "id": "77745144",
   "metadata": {},
   "source": [
    "***\n",
    "\n",
    "***my name***: Kathleen Costa\n",
    "\n",
    "***people I talked to about the assignment***: N/A\n",
    "\n",
    "***"
   ]
  },
  {
   "cell_type": "markdown",
   "id": "c36846fc",
   "metadata": {
    "deletable": false,
    "editable": false,
    "nbgrader": {
     "cell_type": "markdown",
     "checksum": "6d6962369f39a2043feb71785913a5b4",
     "grade": false,
     "grade_id": "intro",
     "locked": true,
     "schema_version": 3,
     "solution": false,
     "task": false
    }
   },
   "source": [
    "## Homework #4\n",
    "\n",
    "Here are the imports. Please do not import anything else."
   ]
  },
  {
   "cell_type": "code",
   "execution_count": 1,
   "id": "5fee7256",
   "metadata": {
    "deletable": false,
    "editable": false,
    "nbgrader": {
     "cell_type": "code",
     "checksum": "26564d41bbf484fe161c108e07218956",
     "grade": false,
     "grade_id": "imports",
     "locked": true,
     "schema_version": 3,
     "solution": false,
     "task": false
    }
   },
   "outputs": [],
   "source": [
    "import graphviz,re\n",
    "import pywrapfst as fst\n",
    "import numpy as np"
   ]
  },
  {
   "cell_type": "markdown",
   "id": "c421c28a",
   "metadata": {
    "deletable": false,
    "editable": false,
    "nbgrader": {
     "cell_type": "markdown",
     "checksum": "98bb0821d1f9966f04aca696616a1e72",
     "grade": false,
     "grade_id": "qttext",
     "locked": true,
     "schema_version": 3,
     "solution": false,
     "task": false
    }
   },
   "source": [
    "1. Using `pywrapfst`, create a symbol table for the (lowercase) English alphabet plus $\\epsilon$ and `#`. (The second symbol added should be `#`.)"
   ]
  },
  {
   "cell_type": "code",
   "execution_count": 2,
   "id": "d14640be",
   "metadata": {
    "deletable": false,
    "nbgrader": {
     "cell_type": "code",
     "checksum": "1080b05dee2996dd3471b927df86bb56",
     "grade": false,
     "grade_id": "q1a",
     "locked": false,
     "schema_version": 3,
     "solution": true,
     "task": false
    }
   },
   "outputs": [],
   "source": [
    "st = fst.SymbolTable()\n",
    "# YOUR CODE HERE\n",
    "st = fst.SymbolTable()\n",
    "st.add_symbol('<epsilon>')\n",
    "st.add_symbol('#')\n",
    "\n",
    "for letter in 'abcdefghijklmnopqrstuvwxyz':\n",
    "    st.add_symbol(letter)"
   ]
  },
  {
   "cell_type": "code",
   "execution_count": 3,
   "id": "b95f3d2d",
   "metadata": {
    "deletable": false,
    "editable": false,
    "nbgrader": {
     "cell_type": "code",
     "checksum": "40ae8db77e266c7427c5217fc19140c7",
     "grade": true,
     "grade_id": "q1t1",
     "locked": true,
     "points": 1,
     "schema_version": 3,
     "solution": false,
     "task": false
    }
   },
   "outputs": [],
   "source": [
    "assert st.num_symbols() == 28"
   ]
  },
  {
   "cell_type": "code",
   "execution_count": 4,
   "id": "fa0af619",
   "metadata": {
    "deletable": false,
    "editable": false,
    "nbgrader": {
     "cell_type": "code",
     "checksum": "03538e65c5eabba6dc3a32582ec56a24",
     "grade": true,
     "grade_id": "q1t2",
     "locked": true,
     "points": 1,
     "schema_version": 3,
     "solution": false,
     "task": false
    }
   },
   "outputs": [],
   "source": [
    "assert st.find(0) == '<epsilon>'"
   ]
  },
  {
   "cell_type": "code",
   "execution_count": 5,
   "id": "e6d3a9dc",
   "metadata": {
    "deletable": false,
    "editable": false,
    "nbgrader": {
     "cell_type": "code",
     "checksum": "c35c005107c7b68d3e46f14887f63024",
     "grade": true,
     "grade_id": "q1t3",
     "locked": true,
     "points": 1,
     "schema_version": 3,
     "solution": false,
     "task": false
    }
   },
   "outputs": [],
   "source": [
    "assert st.find(1) == '#'"
   ]
  },
  {
   "cell_type": "markdown",
   "id": "309decc3",
   "metadata": {
    "deletable": false,
    "editable": false,
    "nbgrader": {
     "cell_type": "markdown",
     "checksum": "6254d7364f974461e2cce9ae799c7d16",
     "grade": false,
     "grade_id": "q2text",
     "locked": true,
     "schema_version": 3,
     "solution": false,
     "task": false
    }
   },
   "source": [
    "2. We'll now build a character *bigram model* based on the *Alice in Wonderland* text. The following function should strip the Gutenberg information at the beginning and end of the file, convert everything to lowercase, convert everything except lowercase letters to space, and return a list of lowercase words."
   ]
  },
  {
   "cell_type": "code",
   "execution_count": 6,
   "id": "bd3876b7",
   "metadata": {
    "deletable": false,
    "nbgrader": {
     "cell_type": "code",
     "checksum": "e410fa4edb0ffcf76860685c0e6719d4",
     "grade": false,
     "grade_id": "q2a",
     "locked": false,
     "schema_version": 3,
     "solution": true,
     "task": false
    }
   },
   "outputs": [],
   "source": [
    "def getwords(alice):\n",
    "    '''tokenizes the Alice text\n",
    "    args:\n",
    "        alice: the location of the Gutenberg alice file\n",
    "    returns\n",
    "        a list of lowercase words\n",
    "    '''\n",
    "    # YOUR CODE HERE\n",
    "    with open(alice, 'r') as f:\n",
    "        text = f.readlines()[54:3406]  # Read lines 55 to 3405\n",
    "\n",
    "    text = ''.join(text)\n",
    "\n",
    "    text = text.lower()\n",
    "    text = re.sub('[^a-z]+', ' ', text)\n",
    "\n",
    "    words = text.split()\n",
    "    \n",
    "    return words\n"
   ]
  },
  {
   "cell_type": "code",
   "execution_count": 7,
   "id": "909bc030",
   "metadata": {
    "deletable": false,
    "editable": false,
    "nbgrader": {
     "cell_type": "code",
     "checksum": "b82cbbdeba52895561375de9ff0d8e16",
     "grade": true,
     "grade_id": "q2t1",
     "locked": true,
     "points": 1,
     "schema_version": 3,
     "solution": false,
     "task": false
    }
   },
   "outputs": [],
   "source": [
    "words = getwords('alice.txt')\n",
    "assert words[:12] == [\n",
    "    'chapter', 'i', 'down', 'the', 'rabbit', 'hole',\n",
    "    'alice', 'was', 'beginning', 'to', 'get', 'very'\n",
    "]"
   ]
  },
  {
   "cell_type": "code",
   "execution_count": 8,
   "id": "fce86dd6",
   "metadata": {
    "deletable": false,
    "editable": false,
    "nbgrader": {
     "cell_type": "code",
     "checksum": "7247c064c1bf3dfe6a9312e99c0533b0",
     "grade": true,
     "grade_id": "q2t2",
     "locked": true,
     "points": 1,
     "schema_version": 3,
     "solution": false,
     "task": false
    }
   },
   "outputs": [],
   "source": [
    "assert words[-5:] == ['happy', 'summer', 'days', 'the', 'end']"
   ]
  },
  {
   "cell_type": "code",
   "execution_count": 9,
   "id": "cc75513e",
   "metadata": {
    "deletable": false,
    "editable": false,
    "nbgrader": {
     "cell_type": "code",
     "checksum": "ec360c58f9f27f8ffa16afc32eb345e2",
     "grade": true,
     "grade_id": "q2t3",
     "locked": true,
     "points": 1,
     "schema_version": 3,
     "solution": false,
     "task": false
    }
   },
   "outputs": [],
   "source": [
    "assert len(words) == 27336"
   ]
  },
  {
   "cell_type": "markdown",
   "id": "6be4a7d0",
   "metadata": {
    "deletable": false,
    "editable": false,
    "nbgrader": {
     "cell_type": "markdown",
     "checksum": "d10417ed2b116e370afd03371720827f",
     "grade": false,
     "grade_id": "q3text",
     "locked": true,
     "schema_version": 3,
     "solution": false,
     "task": false
    }
   },
   "source": [
    "3. We now write a function that will return a list of counts for letter unigrams and letter bigrams. You'll need to pad each word with `#` on each side before doing this."
   ]
  },
  {
   "cell_type": "code",
   "execution_count": 10,
   "id": "4f742e8c",
   "metadata": {
    "deletable": false,
    "nbgrader": {
     "cell_type": "code",
     "checksum": "58f5b777cf2268bfaab603dc29015c85",
     "grade": false,
     "grade_id": "q3a",
     "locked": false,
     "schema_version": 3,
     "solution": true,
     "task": false
    }
   },
   "outputs": [],
   "source": [
    "def getcounts(wds):\n",
    "    '''get letter unigram and bigram counts from a list of words\n",
    "    args:\n",
    "        words: a list of words\n",
    "    returns\n",
    "        unigrams: a dictionary from letters to counts\n",
    "        bigrams: a dictionary from letter pairs to counts\n",
    "    '''\n",
    "    # YOUR CODE HERE\n",
    "    unigrams = {}\n",
    "    bigrams = {}\n",
    "\n",
    "    padded_words = ['#' + word + '#' for word in wds]\n",
    "\n",
    "    for word in padded_words:\n",
    "        for letter in word:\n",
    "            if letter in unigrams:\n",
    "                unigrams[letter] += 1\n",
    "            else:\n",
    "                unigrams[letter] = 1\n",
    "        \n",
    "        for i in range(len(word) - 1):\n",
    "            bigram = word[i:i + 2]\n",
    "            if bigram in bigrams:\n",
    "                bigrams[bigram] += 1\n",
    "            else:\n",
    "                bigrams[bigram] = 1\n",
    "\n",
    "    return unigrams, bigrams"
   ]
  },
  {
   "cell_type": "code",
   "execution_count": 11,
   "id": "bb650b05",
   "metadata": {
    "deletable": false,
    "editable": false,
    "nbgrader": {
     "cell_type": "code",
     "checksum": "4c42bc5f16b71a6151550399f3811046",
     "grade": true,
     "grade_id": "q3t1",
     "locked": true,
     "points": 1,
     "schema_version": 3,
     "solution": false,
     "task": false
    }
   },
   "outputs": [],
   "source": [
    "ugs,bgs = getcounts(words)\n",
    "assert len(ugs) == 27"
   ]
  },
  {
   "cell_type": "code",
   "execution_count": 12,
   "id": "95abe719",
   "metadata": {
    "deletable": false,
    "editable": false,
    "nbgrader": {
     "cell_type": "code",
     "checksum": "d4aa7b2d4f1f3d5b72b3ecbb7acd9b65",
     "grade": true,
     "grade_id": "q3t2",
     "locked": true,
     "points": 1,
     "schema_version": 3,
     "solution": false,
     "task": false
    }
   },
   "outputs": [],
   "source": [
    "assert len(bgs) == 427"
   ]
  },
  {
   "cell_type": "code",
   "execution_count": 13,
   "id": "8a1ba7d4",
   "metadata": {
    "deletable": false,
    "editable": false,
    "nbgrader": {
     "cell_type": "code",
     "checksum": "6d13bf24a5f3df9fba871fbf64d62352",
     "grade": true,
     "grade_id": "q3t3",
     "locked": true,
     "points": 1,
     "schema_version": 3,
     "solution": false,
     "task": false
    }
   },
   "outputs": [],
   "source": [
    "assert bgs['ab'] == 214"
   ]
  },
  {
   "cell_type": "code",
   "execution_count": 14,
   "id": "9f00d1f4",
   "metadata": {
    "deletable": false,
    "editable": false,
    "nbgrader": {
     "cell_type": "code",
     "checksum": "adf1d594cf24e3c1180453087a8773f4",
     "grade": true,
     "grade_id": "q3t4",
     "locked": true,
     "points": 1,
     "schema_version": 3,
     "solution": false,
     "task": false
    }
   },
   "outputs": [],
   "source": [
    "assert ugs['#'] == 54672"
   ]
  },
  {
   "cell_type": "code",
   "execution_count": 15,
   "id": "a16adac8",
   "metadata": {
    "deletable": false,
    "editable": false,
    "nbgrader": {
     "cell_type": "code",
     "checksum": "e94cb7fcac1d35201e62b1ab1466c229",
     "grade": true,
     "grade_id": "q3t5",
     "locked": true,
     "points": 1,
     "schema_version": 3,
     "solution": false,
     "task": false
    }
   },
   "outputs": [],
   "source": [
    "assert ugs['q'] == 209"
   ]
  },
  {
   "cell_type": "markdown",
   "id": "6f8fc146",
   "metadata": {
    "deletable": false,
    "editable": false,
    "nbgrader": {
     "cell_type": "markdown",
     "checksum": "1bb08f2e90a209a2da73e509b1e3d190",
     "grade": false,
     "grade_id": "q4text",
     "locked": true,
     "schema_version": 3,
     "solution": false,
     "task": false
    }
   },
   "source": [
    "4. Let's now write a function that takes our unigram and bigram counts and creates a dictionary of log conditional probabilities."
   ]
  },
  {
   "cell_type": "code",
   "execution_count": 16,
   "id": "0c08946e",
   "metadata": {
    "deletable": false,
    "nbgrader": {
     "cell_type": "code",
     "checksum": "034e32e2abedb903bad1f1be2a8daedd",
     "grade": false,
     "grade_id": "q4a",
     "locked": false,
     "schema_version": 3,
     "solution": true,
     "task": false
    }
   },
   "outputs": [],
   "source": [
    "def makecondprobs(unigrams,bigrams):\n",
    "    '''calculate conditional probabilities\n",
    "    args:\n",
    "        unigrams: dictionary of unigram counts\n",
    "        bigrams: dictionary of bigram counts\n",
    "    returns:\n",
    "        a dictionary of log conditional probabilities\n",
    "    '''\n",
    "    # YOUR CODE HERE\n",
    "    condprobs = {}\n",
    "    total_unigrams = sum(unigrams.values())\n",
    "\n",
    "    for bigram, bigram_count in bigrams.items():\n",
    "        first_letter = bigram[0]\n",
    "        first_count = unigrams.get(first_letter, 0)\n",
    "\n",
    "        if first_count > 0:\n",
    "            prob = bigram_count / first_count\n",
    "            condprobs[bigram] = np.log(prob)\n",
    "\n",
    "    return condprobs"
   ]
  },
  {
   "cell_type": "code",
   "execution_count": 17,
   "id": "db9a1bed",
   "metadata": {
    "deletable": false,
    "editable": false,
    "nbgrader": {
     "cell_type": "code",
     "checksum": "5086532a46620247a0524779b5727c6a",
     "grade": true,
     "grade_id": "q4t1",
     "locked": true,
     "points": 1,
     "schema_version": 3,
     "solution": false,
     "task": false
    }
   },
   "outputs": [],
   "source": [
    "cp = makecondprobs(ugs,bgs)\n",
    "assert len(cp) == 427"
   ]
  },
  {
   "cell_type": "code",
   "execution_count": 18,
   "id": "4dc7a592",
   "metadata": {
    "deletable": false,
    "editable": false,
    "nbgrader": {
     "cell_type": "code",
     "checksum": "a1ec973afc39470f74b770e898ae778f",
     "grade": true,
     "grade_id": "q4t2",
     "locked": true,
     "points": 1,
     "schema_version": 3,
     "solution": false,
     "task": false
    }
   },
   "outputs": [],
   "source": [
    "assert np.isclose(cp['ab'],-3.71,atol=.01)"
   ]
  },
  {
   "cell_type": "code",
   "execution_count": 19,
   "id": "7e7b9f1f",
   "metadata": {
    "deletable": false,
    "editable": false,
    "nbgrader": {
     "cell_type": "code",
     "checksum": "3b2c06f12ef337b9f30354de4c1caa3a",
     "grade": true,
     "grade_id": "q4t3",
     "locked": true,
     "points": 1,
     "schema_version": 3,
     "solution": false,
     "task": false
    }
   },
   "outputs": [],
   "source": [
    "total = 0\n",
    "for bigram in cp:\n",
    "    if bigram[0] == 'a':\n",
    "        total += np.exp(cp[bigram])\n",
    "assert np.isclose(total,1.0,atol=.0001)"
   ]
  },
  {
   "cell_type": "markdown",
   "id": "fc566ff2",
   "metadata": {
    "deletable": false,
    "editable": false,
    "nbgrader": {
     "cell_type": "markdown",
     "checksum": "3e62c468bf44bb0aa4c4b9217cc4aa93",
     "grade": false,
     "grade_id": "q5text",
     "locked": true,
     "schema_version": 3,
     "solution": false,
     "task": false
    }
   },
   "source": [
    "5. We now create a WFSA for this model using the symbol table you created in question #1 and the dictionary we just created. The state geometry is critical here. There will be a start state, which you can think of as the `#` on the left. From there, the first arc takes you to various letter states. The probabilities of those arcs will be the conditional probabilities of the different letters based on the initial `#`. Now from each letter state you can go to any other letter state or the final `#`. In each case, the relevant probability is the conditional probability of the second letter/`#` based on the first letter. The second `#` state is the only final state. Note that there will be no arc corresponding to the first `#`."
   ]
  },
  {
   "cell_type": "code",
   "execution_count": 20,
   "id": "28fe5496",
   "metadata": {
    "deletable": false,
    "nbgrader": {
     "cell_type": "code",
     "checksum": "1d76fcd7b7f91554137037a8e0a6d73c",
     "grade": false,
     "grade_id": "q5a",
     "locked": false,
     "schema_version": 3,
     "solution": true,
     "task": false
    }
   },
   "outputs": [],
   "source": [
    "def makeWFSA(tab,dic):\n",
    "    '''create a WFSA that encodes a bigram model\n",
    "    args:\n",
    "        tab: a symbol table including all letters\n",
    "            and boundary markers\n",
    "        dic: a dictionary of the conditional probabilities\n",
    "    returns:\n",
    "        a WFSA\n",
    "    '''\n",
    "    # YOUR CODE HERE\n",
    "    c = fst.Compiler(\n",
    "        isymbols=tab,\n",
    "        osymbols=tab,\n",
    "        keep_isymbols=True,\n",
    "        keep_osymbols=True,\n",
    "        arc_type='log'\n",
    "    )\n",
    "\n",
    "    start_state = 0\n",
    "    c.write(f'{start_state} 1 # # 0.0')\n",
    "\n",
    "    letters = list('abcdefghijklmnopqrstuvwxyz')\n",
    "    for i, letter in enumerate(letters):\n",
    "        letter_state = i + 1\n",
    "        for next_letter in letters + ['#']:\n",
    "            bigram_prob = dic.get((letter, next_letter), 0)\n",
    "            if bigram_prob > 0:\n",
    "                log_prob = np.log(bigram_prob)\n",
    "                c.write(f'{letter_state} {letter_state + 1} {letter} {next_letter} {log_prob}')\n",
    "\n",
    "        c.write(f'{letter_state} {len(letters) + 1} {letter} # 0.0')\n",
    "\n",
    "    final_state = len(letters) + 1\n",
    "    c.write(f'{final_state}') \n",
    "    c.write(f'{final_state} {final_state} # # 0.0')  # self-loop on final state\n",
    "\n",
    "    wfsa = c.compile()\n",
    "    return wfsa"
   ]
  },
  {
   "cell_type": "code",
   "execution_count": 21,
   "id": "0a57716b",
   "metadata": {
    "deletable": false,
    "editable": false,
    "nbgrader": {
     "cell_type": "code",
     "checksum": "4a3d4203d4d297d59596f9eacc3d80c4",
     "grade": true,
     "grade_id": "q5t1",
     "locked": true,
     "points": 1,
     "schema_version": 3,
     "solution": false,
     "task": false
    }
   },
   "outputs": [],
   "source": [
    "wfsa = makeWFSA(st,cp)\n",
    "assert type(wfsa) == fst.MutableFst"
   ]
  },
  {
   "cell_type": "code",
   "execution_count": 22,
   "id": "54f4740d",
   "metadata": {
    "deletable": false,
    "editable": false,
    "nbgrader": {
     "cell_type": "code",
     "checksum": "2b8865f28ed0079d10e8a9e9c9f5b1e4",
     "grade": true,
     "grade_id": "q5t2",
     "locked": true,
     "points": 1,
     "schema_version": 3,
     "solution": false,
     "task": false
    }
   },
   "outputs": [],
   "source": [
    "assert wfsa.num_states() == 28"
   ]
  },
  {
   "cell_type": "code",
   "execution_count": 23,
   "id": "3ee9ce27",
   "metadata": {
    "deletable": false,
    "editable": false,
    "nbgrader": {
     "cell_type": "code",
     "checksum": "75416d57fa042193552e9b0e831b90c5",
     "grade": true,
     "grade_id": "q5t3",
     "locked": true,
     "points": 1,
     "schema_version": 3,
     "solution": false,
     "task": false
    }
   },
   "outputs": [
    {
     "ename": "AssertionError",
     "evalue": "",
     "output_type": "error",
     "traceback": [
      "\u001b[0;31m---------------------------------------------------------------------------\u001b[0m",
      "\u001b[0;31mAssertionError\u001b[0m                            Traceback (most recent call last)",
      "Input \u001b[0;32mIn [23]\u001b[0m, in \u001b[0;36m<cell line: 15>\u001b[0;34m()\u001b[0m\n\u001b[1;32m     13\u001b[0m f2 \u001b[38;5;241m=\u001b[39m c2\u001b[38;5;241m.\u001b[39mcompile()\n\u001b[1;32m     14\u001b[0m f3 \u001b[38;5;241m=\u001b[39m fst\u001b[38;5;241m.\u001b[39mcompose(f2,wfsa)\n\u001b[0;32m---> 15\u001b[0m \u001b[38;5;28;01massert\u001b[39;00m f3\u001b[38;5;241m.\u001b[39mnum_states() \u001b[38;5;241m==\u001b[39m \u001b[38;5;241m5\u001b[39m\n",
      "\u001b[0;31mAssertionError\u001b[0m: "
     ]
    }
   ],
   "source": [
    "c2 = fst.Compiler(\n",
    "    isymbols=st,\n",
    "    osymbols=st,\n",
    "    keep_isymbols=True,\n",
    "    keep_osymbols=True,\n",
    "    arc_type='log'\n",
    ")\n",
    "c2.write('0 1 h h')\n",
    "c2.write('1 2 a a')\n",
    "c2.write('2 3 t t')\n",
    "c2.write('3 4 # #')\n",
    "c2.write('4')\n",
    "f2 = c2.compile()\n",
    "f3 = fst.compose(f2,wfsa)\n",
    "assert f3.num_states() == 5"
   ]
  },
  {
   "cell_type": "code",
   "execution_count": null,
   "id": "288365c1",
   "metadata": {
    "deletable": false,
    "editable": false,
    "nbgrader": {
     "cell_type": "code",
     "checksum": "5aa18be6792c6a239a8b7d65dbaea89d",
     "grade": true,
     "grade_id": "q5t4",
     "locked": true,
     "points": 1,
     "schema_version": 3,
     "solution": false,
     "task": false
    }
   },
   "outputs": [],
   "source": [
    "f3s = str(f3).split('\\n')[:-2]\n",
    "val = np.exp(sum([float(s.split('\\t')[-1]) for s in f3s]))\n",
    "assert np.isclose(val,0.00019,atol=.001)"
   ]
  },
  {
   "cell_type": "code",
   "execution_count": null,
   "id": "91524241",
   "metadata": {},
   "outputs": [],
   "source": []
  },
  {
   "cell_type": "code",
   "execution_count": null,
   "id": "6f43f921",
   "metadata": {},
   "outputs": [],
   "source": []
  }
 ],
 "metadata": {
  "kernelspec": {
   "display_name": "Python 3 (ipykernel)",
   "language": "python",
   "name": "python3"
  },
  "language_info": {
   "codemirror_mode": {
    "name": "ipython",
    "version": 3
   },
   "file_extension": ".py",
   "mimetype": "text/x-python",
   "name": "python",
   "nbconvert_exporter": "python",
   "pygments_lexer": "ipython3",
   "version": "3.8.10"
  }
 },
 "nbformat": 4,
 "nbformat_minor": 5
}
